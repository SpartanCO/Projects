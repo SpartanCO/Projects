{
 "cells": [
  {
   "cell_type": "markdown",
   "metadata": {},
   "source": [
    "# Simple Tutorial on Using Linear Discriminant Analysis for Dimension Reduction in Python\n",
    "\n",
    "I first learned this technique using Sebastian Raschka's article on LDA\n",
    "http://sebastianraschka.com/Articles/2014_python_lda.html \n",
    "\n",
    "The YouTube tutorial from StatQuest was also incredibly helpful https://youtu.be/azXCzI57Yfc"
   ]
  },
  {
   "cell_type": "markdown",
   "metadata": {},
   "source": [
    "### Importing the libraries and data"
   ]
  },
  {
   "cell_type": "code",
   "execution_count": 96,
   "metadata": {
    "collapsed": true
   },
   "outputs": [],
   "source": [
    "import numpy as np\n",
    "import pandas as pd\n",
    "from sklearn.datasets import load_iris\n",
    "from matplotlib import pyplot as plt\n",
    "import math\n",
    "import seaborn as sns\n",
    "\n",
    "%matplotlib inline"
   ]
  },
  {
   "cell_type": "markdown",
   "metadata": {},
   "source": [
    "### Check out the data"
   ]
  },
  {
   "cell_type": "code",
   "execution_count": 97,
   "metadata": {},
   "outputs": [
    {
     "data": {
      "text/html": [
       "<div>\n",
       "<style>\n",
       "    .dataframe thead tr:only-child th {\n",
       "        text-align: right;\n",
       "    }\n",
       "\n",
       "    .dataframe thead th {\n",
       "        text-align: left;\n",
       "    }\n",
       "\n",
       "    .dataframe tbody tr th {\n",
       "        vertical-align: top;\n",
       "    }\n",
       "</style>\n",
       "<table border=\"1\" class=\"dataframe\">\n",
       "  <thead>\n",
       "    <tr style=\"text-align: right;\">\n",
       "      <th></th>\n",
       "      <th>sepal length (cm)</th>\n",
       "      <th>sepal width (cm)</th>\n",
       "      <th>petal length (cm)</th>\n",
       "      <th>petal width (cm)</th>\n",
       "      <th>class_label</th>\n",
       "    </tr>\n",
       "  </thead>\n",
       "  <tbody>\n",
       "    <tr>\n",
       "      <th>0</th>\n",
       "      <td>5.1</td>\n",
       "      <td>3.5</td>\n",
       "      <td>1.4</td>\n",
       "      <td>0.2</td>\n",
       "      <td>0.0</td>\n",
       "    </tr>\n",
       "    <tr>\n",
       "      <th>1</th>\n",
       "      <td>4.9</td>\n",
       "      <td>3.0</td>\n",
       "      <td>1.4</td>\n",
       "      <td>0.2</td>\n",
       "      <td>0.0</td>\n",
       "    </tr>\n",
       "    <tr>\n",
       "      <th>2</th>\n",
       "      <td>4.7</td>\n",
       "      <td>3.2</td>\n",
       "      <td>1.3</td>\n",
       "      <td>0.2</td>\n",
       "      <td>0.0</td>\n",
       "    </tr>\n",
       "    <tr>\n",
       "      <th>3</th>\n",
       "      <td>4.6</td>\n",
       "      <td>3.1</td>\n",
       "      <td>1.5</td>\n",
       "      <td>0.2</td>\n",
       "      <td>0.0</td>\n",
       "    </tr>\n",
       "    <tr>\n",
       "      <th>4</th>\n",
       "      <td>5.0</td>\n",
       "      <td>3.6</td>\n",
       "      <td>1.4</td>\n",
       "      <td>0.2</td>\n",
       "      <td>0.0</td>\n",
       "    </tr>\n",
       "  </tbody>\n",
       "</table>\n",
       "</div>"
      ],
      "text/plain": [
       "   sepal length (cm)  sepal width (cm)  petal length (cm)  petal width (cm)  \\\n",
       "0                5.1               3.5                1.4               0.2   \n",
       "1                4.9               3.0                1.4               0.2   \n",
       "2                4.7               3.2                1.3               0.2   \n",
       "3                4.6               3.1                1.5               0.2   \n",
       "4                5.0               3.6                1.4               0.2   \n",
       "\n",
       "   class_label  \n",
       "0          0.0  \n",
       "1          0.0  \n",
       "2          0.0  \n",
       "3          0.0  \n",
       "4          0.0  "
      ]
     },
     "execution_count": 97,
     "metadata": {},
     "output_type": "execute_result"
    }
   ],
   "source": [
    "# Load the Iris data into a dataframe\n",
    "iris = load_iris()\n",
    "\n",
    "data = pd.DataFrame(data= np.c_[iris['data'], iris['target']],\n",
    "                     columns= iris['feature_names'] + ['class_label'])\n",
    "data.head()"
   ]
  },
  {
   "cell_type": "code",
   "execution_count": 98,
   "metadata": {},
   "outputs": [
    {
     "data": {
      "text/html": [
       "<div>\n",
       "<style>\n",
       "    .dataframe thead tr:only-child th {\n",
       "        text-align: right;\n",
       "    }\n",
       "\n",
       "    .dataframe thead th {\n",
       "        text-align: left;\n",
       "    }\n",
       "\n",
       "    .dataframe tbody tr th {\n",
       "        vertical-align: top;\n",
       "    }\n",
       "</style>\n",
       "<table border=\"1\" class=\"dataframe\">\n",
       "  <thead>\n",
       "    <tr style=\"text-align: right;\">\n",
       "      <th></th>\n",
       "      <th>sepal width (cm)</th>\n",
       "      <th>petal width (cm)</th>\n",
       "      <th>class_label</th>\n",
       "    </tr>\n",
       "  </thead>\n",
       "  <tbody>\n",
       "    <tr>\n",
       "      <th>0</th>\n",
       "      <td>3.5</td>\n",
       "      <td>0.2</td>\n",
       "      <td>0.0</td>\n",
       "    </tr>\n",
       "    <tr>\n",
       "      <th>1</th>\n",
       "      <td>3.0</td>\n",
       "      <td>0.2</td>\n",
       "      <td>0.0</td>\n",
       "    </tr>\n",
       "    <tr>\n",
       "      <th>2</th>\n",
       "      <td>3.2</td>\n",
       "      <td>0.2</td>\n",
       "      <td>0.0</td>\n",
       "    </tr>\n",
       "    <tr>\n",
       "      <th>3</th>\n",
       "      <td>3.1</td>\n",
       "      <td>0.2</td>\n",
       "      <td>0.0</td>\n",
       "    </tr>\n",
       "    <tr>\n",
       "      <th>4</th>\n",
       "      <td>3.6</td>\n",
       "      <td>0.2</td>\n",
       "      <td>0.0</td>\n",
       "    </tr>\n",
       "  </tbody>\n",
       "</table>\n",
       "</div>"
      ],
      "text/plain": [
       "   sepal width (cm)  petal width (cm)  class_label\n",
       "0               3.5               0.2          0.0\n",
       "1               3.0               0.2          0.0\n",
       "2               3.2               0.2          0.0\n",
       "3               3.1               0.2          0.0\n",
       "4               3.6               0.2          0.0"
      ]
     },
     "execution_count": 98,
     "metadata": {},
     "output_type": "execute_result"
    }
   ],
   "source": [
    "# Check out the dataframe\n",
    "data = data.drop(['sepal length (cm)', 'petal length (cm)'], axis = 1)\n",
    "data.head()"
   ]
  },
  {
   "cell_type": "code",
   "execution_count": 99,
   "metadata": {
    "collapsed": true
   },
   "outputs": [],
   "source": [
    "feature_dict = {i:label for i,label in zip(range(2), ('sepal width in cm','petal width in cm'))}\n",
    "\n",
    "label_dict = {0: 'Setosa', 1: 'Versicolor', 2:'Virginica'}"
   ]
  },
  {
   "cell_type": "code",
   "execution_count": 100,
   "metadata": {
    "collapsed": true
   },
   "outputs": [],
   "source": [
    "X = data[['sepal width (cm)', 'petal width (cm)']].values\n",
    "y = data['class_label'].values"
   ]
  },
  {
   "cell_type": "code",
   "execution_count": 101,
   "metadata": {},
   "outputs": [
    {
     "data": {
      "image/png": "[encoded data removed]",
      "text/plain": [
       "<matplotlib.figure.Figure at 0x11d5719b0>"
      ]
     },
     "metadata": {},
     "output_type": "display_data"
    }
   ],
   "source": [
    "# plot petal length vs petal width\n",
    "\n",
    "setosa = data[data['class_label'] == 0]\n",
    "versicolor = data[data['class_label'] == 1]\n",
    "virginica = data[data['class_label'] == 2]\n",
    "\n",
    "_ = plt.scatter(setosa['sepal width (cm)'], y = setosa['petal width (cm)'], marker='o', c = 'green', label = 'setosa')\n",
    "_ = plt.scatter(versicolor['sepal width (cm)'], y = versicolor['petal width (cm)'], marker='o', c = 'red', label = 'versicolor')\n",
    "_ = plt.scatter(virginica['sepal width (cm)'], y = virginica['petal width (cm)'], marker='o', c = 'blue', label = 'virginica')\n",
    "_ = plt.title('Sepal Width vs Petal Width for Each Iris Class')\n",
    "_ = plt.xlabel('Sepal Width (cm)')\n",
    "_ = plt.ylabel('Petal Width (cm)')\n",
    "plt.legend()\n",
    "\n",
    "plt.show()"
   ]
  },
  {
   "cell_type": "code",
   "execution_count": 102,
   "metadata": {},
   "outputs": [
    {
     "data": {
      "image/png": "[encoded data removed]",
      "text/plain": [
       "<matplotlib.figure.Figure at 0x11d2933c8>"
      ]
     },
     "metadata": {},
     "output_type": "display_data"
    }
   ],
   "source": [
    "# Example of a bad subspace (line)\n",
    "\n",
    "setosa = data[data['class_label'] == 0]\n",
    "versicolor = data[data['class_label'] == 1]\n",
    "virginica = data[data['class_label'] == 2]\n",
    "\n",
    "setosa_mean = setosa['sepal width (cm)'].mean()\n",
    "versicolor_mean = versicolor['sepal width (cm)'].mean()\n",
    "virginica_mean = virginica['sepal width (cm)'].mean()\n",
    "\n",
    "setosa_range = setosa['sepal width (cm)'].max() - setosa['sepal width (cm)'].min()\n",
    "versicolor_range = versicolor['sepal width (cm)'].max() - versicolor['sepal width (cm)'].min()\n",
    "virginica_range = virginica['sepal width (cm)'].max() - virginica['sepal width (cm)'].min()\n",
    "\n",
    "def line(formula, x_range):  \n",
    "    x = np.array(x_range)\n",
    "    y = formula(x)\n",
    "    _ = plt.plot(x, y)   \n",
    "\n",
    "def my_formula(x):\n",
    "    return x * 0 + 1.4\n",
    "\n",
    "line(my_formula, range(0, 7))\n",
    "\n",
    "_ = plt.scatter(setosa['sepal width (cm)'], my_formula(setosa['sepal width (cm)']), marker='o', \n",
    "                c = 'green', label = 'setosa with a range of %.2f' % setosa_range, alpha = 0.2)\n",
    "_ = plt.scatter(versicolor['sepal width (cm)'], my_formula(versicolor['sepal width (cm)']), marker='o', \n",
    "                c = 'red', label = 'versicolor with a range of %.2f' % versicolor_range, alpha = 0.2)\n",
    "_ = plt.scatter(virginica['sepal width (cm)'], my_formula(virginica['sepal width (cm)']), marker='o', \n",
    "                c = 'blue', label = 'virginica with a range of %.2f' % virginica_range, alpha = 0.2)\n",
    "_ = plt.title('Sepal Width vs Petal Width for Each Iris Class')\n",
    "_ = plt.xlabel('Sepal Width (cm)')\n",
    "_ = plt.ylabel('Petal Width (cm)')\n",
    "plt.axis([1.8, 4.6, -0.1, 2.7])\n",
    "plt.legend(loc = 4)\n",
    "\n",
    "\n",
    "plt.annotate('$\\mu$ = %.3f' % setosa_mean, xy = (setosa_mean, 1.4), xytext = (3.41, 2.0), \n",
    "             arrowprops = dict(facecolor='green'))\n",
    "plt.annotate('$\\mu$ = %.3f' % versicolor_mean, xy = (versicolor_mean, 1.4), xytext = (2.4, 2.0), \n",
    "             arrowprops = dict(facecolor='red'))\n",
    "plt.annotate('$\\mu$ = %.3f' % virginica_mean, xy = (virginica_mean, 1.4), xytext = (2.97, 2.0), \n",
    "             arrowprops = dict(facecolor='blue'))\n",
    "\n",
    "plt.show()"
   ]
  },
  {
   "cell_type": "code",
   "execution_count": 103,
   "metadata": {},
   "outputs": [
    {
     "data": {
      "image/png": "[encoded data removed]",
      "text/plain": [
       "<matplotlib.figure.Figure at 0x11d293d68>"
      ]
     },
     "metadata": {},
     "output_type": "display_data"
    }
   ],
   "source": [
    "# Example of a better subspace (line)\n",
    "\n",
    "setosa = data[data['class_label'] == 0]\n",
    "versicolor = data[data['class_label'] == 1]\n",
    "virginica = data[data['class_label'] == 2]\n",
    "\n",
    "setosa_mean = setosa['petal width (cm)'].mean()\n",
    "versicolor_mean = versicolor['petal width (cm)'].mean()\n",
    "virginica_mean = virginica['petal width (cm)'].mean()\n",
    "\n",
    "setosa_range = setosa['petal width (cm)'].max() - setosa['petal width (cm)'].min()\n",
    "versicolor_range = versicolor['petal width (cm)'].max() - versicolor['petal width (cm)'].min()\n",
    "virginica_range = virginica['petal width (cm)'].max() - virginica['petal width (cm)'].min()\n",
    "\n",
    "\n",
    "def line(formula, y_range):  \n",
    "    x = np.array(y_range)\n",
    "    y = formula(x)\n",
    "    _ = plt.plot(x, y)   \n",
    "\n",
    "def my_formula(x):\n",
    "    return 0 * x + 3\n",
    "\n",
    "line(my_formula, range(0, 3))\n",
    "\n",
    "_ = plt.scatter(my_formula(setosa['petal width (cm)']), setosa['petal width (cm)'], marker='o', \n",
    "                c = 'green', label = 'setosa with a range of %.2f' % setosa_range, alpha = 0.2)\n",
    "_ = plt.scatter(my_formula(versicolor['petal width (cm)']), versicolor['petal width (cm)'], marker='o', \n",
    "                c = 'red', label = 'versicolor with a range of %.2f' % versicolor_range, alpha = 0.2)\n",
    "_ = plt.scatter(my_formula(virginica['petal width (cm)']), virginica['petal width (cm)'], marker='o', \n",
    "                c = 'blue', label = 'virginica with a range of %.2f' % virginica_range, alpha = 0.2)\n",
    "_ = plt.title('Sepal Width vs Petal Width for Each Iris Class')\n",
    "_ = plt.xlabel('Sepal Width (cm)')\n",
    "_ = plt.ylabel('Petal Width (cm)')\n",
    "plt.axis([1.8, 4.6, -0.1, 2.7])\n",
    "plt.legend(loc = 4)\n",
    "\n",
    "\n",
    "plt.annotate('$\\mu$ = %.3f' % setosa_mean, xy = (3.0, setosa_mean), xytext = (2.5, 0.2), \n",
    "             arrowprops = dict(facecolor='green'))\n",
    "plt.annotate('$\\mu$ = %.3f' % versicolor_mean, xy = (3.0, versicolor_mean), xytext = (2.5, 1.3), \n",
    "             arrowprops = dict(facecolor='red'))\n",
    "plt.annotate('$\\mu$ = %.3f' % virginica_mean, xy = (3.0, virginica_mean), xytext = (2.5, 2.0), \n",
    "             arrowprops = dict(facecolor='blue'))\n",
    "\n",
    "plt.show()"
   ]
  },
  {
   "cell_type": "code",
   "execution_count": 104,
   "metadata": {},
   "outputs": [
    {
     "data": {
      "image/png": "[encoded data removed]",
      "text/plain": [
       "<matplotlib.figure.Figure at 0x11d9cf320>"
      ]
     },
     "metadata": {},
     "output_type": "display_data"
    }
   ],
   "source": [
    "# Visualize the data in histograms\n",
    "\n",
    "fig, axes = plt.subplots(nrows = 1, ncols = 2, figsize = (12,6))\n",
    "\n",
    "for ax, cnt in zip(axes.ravel(), range(2)):\n",
    "    \n",
    "    # set bin sizes\n",
    "    min_b = math.floor(np.min(X[:,cnt]))\n",
    "    max_b = math.ceil(np.max(X[:,cnt]))\n",
    "    bins = np.linspace(min_b, max_b, 25)\n",
    "    \n",
    "    # plotting the histograms\n",
    "    for lab, col in zip(range(0,3), ('blue', 'red', 'green')):\n",
    "        ax.hist(X[y == lab, cnt],\n",
    "                    color = col,\n",
    "                    label = 'class %s' %label_dict[lab],\n",
    "                    bins = bins,\n",
    "                    alpha = 0.5)\n",
    "    ylims = ax.get_ylim()\n",
    "    \n",
    "    # plot annotation\n",
    "    leg = ax.legend(loc = 'upper right', fancybox = True, fontsize = 8)\n",
    "    leg.get_frame().set_alpha(0.5)\n",
    "    ax.set_ylim([0, max(ylims) + 2])\n",
    "    ax.set_xlabel(feature_dict[cnt])\n",
    "    ax.set_ylabel('count')\n",
    "    ax.set_title('Iris Histogram #%s' %str(cnt+1))\n",
    "    \n",
    "    # hide axis ticks\n",
    "    ax.tick_params(axis = 'both', which = 'both', bottom = 'off', \n",
    "                  top = 'off', labelbottom = 'on', left = 'off',\n",
    "                  right = 'off', labelleft = 'on')\n",
    "    \n",
    "    # remove axis spines\n",
    "    ax.spines['top'].set_visible(False)\n",
    "    ax.spines['right'].set_visible(False)\n",
    "    ax.spines['bottom'].set_visible(False)\n",
    "    ax.spines['left'].set_visible(False)\n",
    "\n",
    "fig.tight_layout()\n",
    "\n",
    "plt.show()"
   ]
  },
  {
   "cell_type": "markdown",
   "metadata": {},
   "source": [
    "## LDA in Five Steps\n",
    "\n",
    "1. Computing the d-dimensional mean vectors\n",
    "2. Computing the Scatter Matrices\n",
    "3. Solving the generalized eigenvalue problem to obtain the linear discriminants\n",
    "4. Selecting linear discrimminants for the new feature subspace\n",
    "5. Choosing k eigenvectors with the largest eigenvalues"
   ]
  },
  {
   "cell_type": "markdown",
   "metadata": {},
   "source": [
    "### Step 1: Computing the d-dimensional mean vectors\n",
    "\n",
    "Compute the mean vectors of the three different flower classes"
   ]
  },
  {
   "cell_type": "code",
   "execution_count": 105,
   "metadata": {},
   "outputs": [
    {
     "name": "stdout",
     "output_type": "stream",
     "text": [
      "Mean Vector class 0: [ 3.418  0.244]\n",
      "\n",
      "Mean Vector class 1: [ 2.77   1.326]\n",
      "\n",
      "Mean Vector class 2: [ 2.974  2.026]\n",
      "\n"
     ]
    }
   ],
   "source": [
    "np.set_printoptions(precision = 4)\n",
    "\n",
    "mean_vectors = []\n",
    "for cl in range(0,3):\n",
    "    mean_vectors.append(np.mean(X[y == cl], axis = 0))\n",
    "    print('Mean Vector class %s: %s\\n' %(cl, mean_vectors[cl]))"
   ]
  },
  {
   "cell_type": "code",
   "execution_count": 106,
   "metadata": {},
   "outputs": [
    {
     "name": "stdout",
     "output_type": "stream",
     "text": [
      "The central point (overall mean) is: (3.054, 1.199)\n"
     ]
    }
   ],
   "source": [
    "# finding the central point\n",
    "\n",
    "sepal_mean = np.mean([3.418, 2.77, 2.974])\n",
    "petal_mean = np.mean([0.244, 1.326, 2.026])\n",
    "print('The central point (overall mean) is: (%.3f, %.3f)' % (sepal_mean, petal_mean))"
   ]
  },
  {
   "cell_type": "code",
   "execution_count": 107,
   "metadata": {},
   "outputs": [
    {
     "data": {
      "image/png": "[encoded data removed]",
      "text/plain": [
       "<matplotlib.figure.Figure at 0x11d14a208>"
      ]
     },
     "metadata": {},
     "output_type": "display_data"
    }
   ],
   "source": [
    "# plot petal length vs petal width\n",
    "# plot the central point and the class means\n",
    "\n",
    "setosa = data[data['class_label'] == 0]\n",
    "versicolor = data[data['class_label'] == 1]\n",
    "virginica = data[data['class_label'] == 2]\n",
    "\n",
    "_ = plt.scatter(setosa['sepal width (cm)'], y = setosa['petal width (cm)'], marker='o', c = 'green', label = 'setosa')\n",
    "_ = plt.scatter(versicolor['sepal width (cm)'], y = versicolor['petal width (cm)'], marker='o', c = 'red', label = 'versicolor')\n",
    "_ = plt.scatter(virginica['sepal width (cm)'], y = virginica['petal width (cm)'], marker='o', c = 'blue', label = 'virginica')\n",
    "_ = plt.title('Sepal Width vs Petal Width for Each Iris Class')\n",
    "_ = plt.xlabel('Sepal Width (cm)')\n",
    "_ = plt.ylabel('Petal Width (cm)')\n",
    "plt.legend()\n",
    "\n",
    "plt.plot(3.054, 1.199, marker = 'D', color = 'black', markersize = 15)   # Central point \n",
    "plt.plot(3.418, 0.244, marker = 'D', color = 'black', markersize = 15)    # Setosa Mean\n",
    "plt.plot(2.770, 1.326, marker = 'D', color = 'black', markersize = 15)    # Versicolor Mean\n",
    "plt.plot(2.974, 2.026, marker = 'D', color = 'black', markersize = 15)    # Virginica Mean\n",
    "\n",
    "\n",
    "plt.show()"
   ]
  },
  {
   "cell_type": "markdown",
   "metadata": {},
   "source": [
    "### Step 2: Computing the Scatter Matrices\n",
    "\n",
    "Compute the two 4x4-dimensional matrices: the within-class and the between-class scatter matrix."
   ]
  },
  {
   "cell_type": "code",
   "execution_count": 108,
   "metadata": {},
   "outputs": [
    {
     "name": "stdout",
     "output_type": "stream",
     "text": [
      "Within-Class Scatter matrix:\n",
      " [[ 17.035    4.9132]\n",
      " [  4.9132   6.1756]]\n"
     ]
    }
   ],
   "source": [
    "# Within-Class Scatter Matrix\n",
    "# Calculating the covariance\n",
    "\n",
    "S_W = np.zeros((2,2))\n",
    "for cl, mv in zip(range(0,3), mean_vectors):\n",
    "    # empty class covariance matrix\n",
    "    class_sc_mat = np.zeros((2,2)) \n",
    "    \n",
    "    for row in X[y == cl]:\n",
    "        row, mv = row.reshape(2,1), mv.reshape(2,1)    \n",
    "        # calculates the covariance of the features for within a class\n",
    "        class_sc_mat += (row - mv).dot((row - mv).T)\n",
    "    \n",
    "    # add up the 3 covariance matrices\n",
    "    S_W += class_sc_mat                                \n",
    "\n",
    "print('Within-Class Scatter matrix:\\n', S_W)"
   ]
  },
  {
   "cell_type": "code",
   "execution_count": 109,
   "metadata": {},
   "outputs": [
    {
     "name": "stdout",
     "output_type": "stream",
     "text": [
      "Between-Class Scatter Matrix:\n",
      " [[ 10.9776 -22.4924]\n",
      " [-22.4924  80.6041]]\n"
     ]
    }
   ],
   "source": [
    "# Between-Class Scatter Matrix\n",
    "\n",
    "# The mean sepal width and mean petal width\n",
    "# AKA the Central Point\n",
    "overall_mean = np.mean(X, axis = 0)\n",
    "\n",
    "# empty scatter matrix\n",
    "S_B = np.zeros((2,2))\n",
    "\n",
    "for i, mean_vec in enumerate(mean_vectors):\n",
    "    n = X[y == i, :].shape[0]\n",
    "    mean_vec = mean_vec.reshape(2,1)            \n",
    "    overall_mean = overall_mean.reshape(2,1) \n",
    "    \n",
    "    # add up the differences of the class means and the overall mean\n",
    "    S_B += n * (mean_vec - overall_mean).dot((mean_vec - overall_mean).T)\n",
    "    \n",
    "print('Between-Class Scatter Matrix:\\n', S_B)"
   ]
  },
  {
   "cell_type": "markdown",
   "metadata": {},
   "source": [
    "### Step 3: Solving the generalized eigenvalue problem for the matrix S_W(-1)* S_B\n",
    "\n",
    "Finding linear discriminants"
   ]
  },
  {
   "cell_type": "code",
   "execution_count": 110,
   "metadata": {},
   "outputs": [
    {
     "name": "stdout",
     "output_type": "stream",
     "text": [
      "W =\n",
      " [[  2.1996  -6.599 ]\n",
      " [ -5.3921  18.3021]]\n",
      "\n",
      "Eigenvector 1: \n",
      "[[-0.9583]\n",
      " [-0.2859]]\n",
      "Eigenvalue 1: 2.31e-01\n",
      "\n",
      "Eigenvector 2: \n",
      "[[ 0.343 ]\n",
      " [-0.9393]]\n",
      "Eigenvalue 2: 2.03e+01\n"
     ]
    }
   ],
   "source": [
    "# The transformation matrix W\n",
    "W = np.linalg.inv(S_W).dot(S_B)\n",
    "print('W =\\n', W)\n",
    "\n",
    "# NumPy does the eigenvector and eigenvalue calculations for us\n",
    "eig_vals, eig_vecs = np.linalg.eig(np.linalg.inv(S_W).dot(S_B))\n",
    "\n",
    "for i in range(len(eig_vals)):\n",
    "    eigvec_sc = eig_vecs[:,i].reshape(2,1)\n",
    "    print('\\nEigenvector {}: \\n{}'.format(i+1, eigvec_sc.real))\n",
    "    print('Eigenvalue {:}: {:.2e}'.format(i+1, eig_vals[i].real))"
   ]
  },
  {
   "cell_type": "code",
   "execution_count": 111,
   "metadata": {},
   "outputs": [
    {
     "name": "stdout",
     "output_type": "stream",
     "text": [
      "ok\n"
     ]
    }
   ],
   "source": [
    "# Checking the eigenvector-eigenvalue calculation\n",
    "\n",
    "for i in range(len(eig_vals)):\n",
    "    eigv = eig_vecs[:,i].reshape(2,1)\n",
    "    np.testing.assert_array_almost_equal(np.linalg.inv(S_W).dot(S_B).dot(eigv),\n",
    "                                        eig_vals[i] * eigv,\n",
    "                                        decimal = 6, err_msg = '', verbose = True)\n",
    "print('ok')"
   ]
  },
  {
   "cell_type": "markdown",
   "metadata": {},
   "source": [
    "### Step 4: Sorting the eigenvectors by decreasing eigenvalues\n",
    "\n",
    "The eigenvectors with the lowest eigenvalues bear the least information about the distribution of the data -- therefore, we want to drop those"
   ]
  },
  {
   "cell_type": "code",
   "execution_count": 139,
   "metadata": {},
   "outputs": [
    {
     "name": "stdout",
     "output_type": "stream",
     "text": [
      "Eigenvalues in decreasing order:\n",
      "\n",
      "20.2710837471\n",
      "0.230604546972\n"
     ]
    }
   ],
   "source": [
    "# Make a list of (eigenvalue, eigenvector) tuples\n",
    "eig_pairs = [(np.abs(eig_vals[i]), eig_vecs[:,i]) for i in range(len(eig_vals))]\n",
    "\n",
    "# Sort the (eigenvalue, eigenvector) tuples from high to low\n",
    "eig_pairs = sorted(eig_pairs, key = lambda k: k[0], reverse = True)\n",
    "\n",
    "# Confirm the list is correctly sorted by decreasing eigenvalues\n",
    "print('Eigenvalues in decreasing order:\\n')\n",
    "for i in eig_pairs:\n",
    "    print(i[0])"
   ]
  },
  {
   "cell_type": "code",
   "execution_count": 140,
   "metadata": {},
   "outputs": [
    {
     "name": "stdout",
     "output_type": "stream",
     "text": [
      "Variance explained:\n",
      "\n",
      "Eigenvalue 1: 98.88%\n",
      "Eigenvalue 2: 1.12%\n"
     ]
    }
   ],
   "source": [
    "# Express the 'explained variance' as percentage\n",
    "\n",
    "print('Variance explained:\\n')\n",
    "eigv_sum = sum(eig_vals)\n",
    "for i,j in enumerate(eig_pairs):\n",
    "    print('Eigenvalue {0:}: {1:.2%}'.format(i+1, (j[0]/eigv_sum).real))"
   ]
  },
  {
   "cell_type": "code",
   "execution_count": 141,
   "metadata": {},
   "outputs": [
    {
     "name": "stdout",
     "output_type": "stream",
     "text": [
      "[(20.271083747063727, array([ 0.343 , -0.9393])), (0.23060454697217381, array([-0.9583, -0.2859]))]\n"
     ]
    }
   ],
   "source": [
    "print(eig_pairs)"
   ]
  },
  {
   "cell_type": "code",
   "execution_count": 142,
   "metadata": {},
   "outputs": [
    {
     "name": "stdout",
     "output_type": "stream",
     "text": [
      "Matrix V:\n",
      " [[ 0.343  -0.9583]\n",
      " [-0.9393 -0.2859]]\n"
     ]
    }
   ],
   "source": [
    "# Choosing k eigenvectors with the largest eigenvalues\n",
    "# Constructing a 2x2 eigenvector matrix based on the most informative eigenpair\n",
    "# Therefore (not)reducing the original 2-dimensional feature space into a better 2-dimensional feature subspace\n",
    "\n",
    "V = np.hstack((eig_pairs[0][1].reshape(2,1), eig_pairs[1][1].reshape(2,1)))\n",
    "print('Matrix V:\\n', V.real)"
   ]
  },
  {
   "cell_type": "markdown",
   "metadata": {},
   "source": [
    "## Transforming the samples onto the new subspace\n",
    "\n",
    "Use the 4x2-dimensional matrix V to transform the samples using Y = X x V"
   ]
  },
  {
   "cell_type": "code",
   "execution_count": 143,
   "metadata": {
    "collapsed": true
   },
   "outputs": [],
   "source": [
    "X_lda = X.dot(V)"
   ]
  },
  {
   "cell_type": "code",
   "execution_count": 144,
   "metadata": {
    "collapsed": true
   },
   "outputs": [],
   "source": [
    "assert X_lda.shape == (150,2), 'The matrix is not 150x2 dimensional.'"
   ]
  },
  {
   "cell_type": "code",
   "execution_count": 161,
   "metadata": {},
   "outputs": [
    {
     "data": {
      "image/png": "[encoded data removed]",
      "text/plain": [
       "<matplotlib.figure.Figure at 0x11e01f160>"
      ]
     },
     "metadata": {},
     "output_type": "display_data"
    }
   ],
   "source": [
    "from matplotlib import pyplot as plt\n",
    "\n",
    "def plot_step_lda():\n",
    "\n",
    "    ax = plt.subplot(111)\n",
    "    for label,marker,color in zip(\n",
    "        range(0,3),('^', 's', 'o'),('blue', 'red', 'green')):\n",
    "\n",
    "        plt.scatter(x=X_lda[:,0].real[y == label] * -1,\n",
    "                y=X_lda[:,1].real[y == label],\n",
    "                marker=marker,\n",
    "                color=color,\n",
    "                alpha=0.5,\n",
    "                label=label_dict[label]\n",
    "                )\n",
    "\n",
    "    plt.xlabel('LD1')\n",
    "    plt.ylabel('LD2')\n",
    "\n",
    "    leg = plt.legend(loc='upper right', fancybox=True)\n",
    "    leg.get_frame().set_alpha(0.5)\n",
    "    plt.title('LDA: Iris projection onto the first 2 linear discriminants')\n",
    "\n",
    "    # hide axis ticks\n",
    "    plt.tick_params(axis=\"both\", which=\"both\", bottom=\"off\", top=\"off\",  \n",
    "            labelbottom=\"on\", left=\"off\", right=\"off\", labelleft=\"on\")\n",
    "\n",
    "    # remove axis spines\n",
    "    ax.spines[\"top\"].set_visible(False)  \n",
    "    ax.spines[\"right\"].set_visible(False)\n",
    "    ax.spines[\"bottom\"].set_visible(False)\n",
    "    ax.spines[\"left\"].set_visible(False)    \n",
    "\n",
    "    plt.grid()\n",
    "    plt.tight_layout\n",
    "    plt.show()\n",
    "\n",
    "plot_step_lda()"
   ]
  },
  {
   "cell_type": "markdown",
   "metadata": {},
   "source": [
    "## LDA with scikit-learn "
   ]
  },
  {
   "cell_type": "code",
   "execution_count": 162,
   "metadata": {},
   "outputs": [],
   "source": [
    "from sklearn.discriminant_analysis import LinearDiscriminantAnalysis as LDA\n",
    "\n",
    "sklearn_lda = LDA(n_components = 2)\n",
    "X_lda_sklearn = sklearn_lda.fit_transform(X, y)"
   ]
  },
  {
   "cell_type": "code",
   "execution_count": 163,
   "metadata": {},
   "outputs": [],
   "source": [
    "def plot_scikit_lda(X, title):\n",
    "\n",
    "    ax = plt.subplot(111)\n",
    "    for label,marker,color in zip(\n",
    "        range(0,3),('^', 's', 'o'),('blue', 'red', 'green')):\n",
    "\n",
    "        plt.scatter(x=X[:,0][y == label],\n",
    "                    y=X[:,1][y == label] * -1,\n",
    "                    marker=marker,\n",
    "                    color=color,\n",
    "                    alpha=0.5,\n",
    "                    label=label_dict[label])\n",
    "\n",
    "    plt.xlabel('LD1')\n",
    "    plt.ylabel('LD2')\n",
    "\n",
    "    leg = plt.legend(loc='upper right', fancybox=True)\n",
    "    leg.get_frame().set_alpha(0.5)\n",
    "    plt.title(title)\n",
    "\n",
    "    # hide axis ticks\n",
    "    plt.tick_params(axis=\"both\", which=\"both\", bottom=\"off\", top=\"off\",  \n",
    "            labelbottom=\"on\", left=\"off\", right=\"off\", labelleft=\"on\")\n",
    "\n",
    "    # remove axis spines\n",
    "    ax.spines[\"top\"].set_visible(False)  \n",
    "    ax.spines[\"right\"].set_visible(False)\n",
    "    ax.spines[\"bottom\"].set_visible(False)\n",
    "    ax.spines[\"left\"].set_visible(False)    \n",
    "\n",
    "    plt.grid()\n",
    "    plt.tight_layout\n",
    "    plt.show()"
   ]
  },
  {
   "cell_type": "code",
   "execution_count": 164,
   "metadata": {},
   "outputs": [
    {
     "data": {
      "image/png": "[encoded data removed]",
      "text/plain": [
       "<matplotlib.figure.Figure at 0x11df4b898>"
      ]
     },
     "metadata": {},
     "output_type": "display_data"
    },
    {
     "data": {
      "image/png": "[encoded data removed]",
      "text/plain": [
       "<matplotlib.figure.Figure at 0x11d20dc18>"
      ]
     },
     "metadata": {},
     "output_type": "display_data"
    }
   ],
   "source": [
    "plot_step_lda()\n",
    "plot_scikit_lda(X_lda_sklearn, title='Default LDA via scikit-learn')"
   ]
  }
 ],
 "metadata": {
  "kernelspec": {
   "display_name": "Python 3",
   "language": "python",
   "name": "python3"
  },
  "language_info": {
   "codemirror_mode": {
    "name": "ipython",
    "version": 3
   },
   "file_extension": ".py",
   "mimetype": "text/x-python",
   "name": "python",
   "nbconvert_exporter": "python",
   "pygments_lexer": "ipython3",
   "version": "3.6.1"
  }
 },
 "nbformat": 4,
 "nbformat_minor": 2
}
