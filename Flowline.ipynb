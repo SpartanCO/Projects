{
 "cells": [
  {
   "cell_type": "markdown",
   "metadata": {},
   "source": [
    "# Flowline Data"
   ]
  },
  {
   "cell_type": "markdown",
   "metadata": {},
   "source": [
    "## Importing data and libraries"
   ]
  },
  {
   "cell_type": "code",
   "execution_count": 317,
   "metadata": {
    "collapsed": true
   },
   "outputs": [],
   "source": [
    "import pandas as pd\n",
    "import matplotlib.pyplot as plt\n",
    "import seaborn as sns\n",
    "\n",
    "%matplotlib inline"
   ]
  },
  {
   "cell_type": "code",
   "execution_count": 318,
   "metadata": {},
   "outputs": [
    {
     "name": "stdout",
     "output_type": "stream",
     "text": [
      "[Errno 2] No such file or directory: 'Flowline'\n",
      "/Users/Jackie/Desktop/Flowline\n"
     ]
    }
   ],
   "source": [
    "%cd Flowline"
   ]
  },
  {
   "cell_type": "code",
   "execution_count": 343,
   "metadata": {
    "collapsed": true
   },
   "outputs": [],
   "source": [
    "flowline = pd.read_csv('FlowlineInventory.csv', encoding = \"ISO-8859-1\", \n",
    "                       dtype = {'Integrity Test Results': str, \n",
    "                       'Well API County Code': str, 'Well Operator': str}, \n",
    "                       na_values = 'NaN', index_col = 0, low_memory = False)"
   ]
  },
  {
   "cell_type": "markdown",
   "metadata": {},
   "source": [
    "## Check out the data"
   ]
  },
  {
   "cell_type": "code",
   "execution_count": 336,
   "metadata": {},
   "outputs": [
    {
     "data": {
      "text/html": [
       "<div>\n",
       "<style>\n",
       "    .dataframe thead tr:only-child th {\n",
       "        text-align: right;\n",
       "    }\n",
       "\n",
       "    .dataframe thead th {\n",
       "        text-align: left;\n",
       "    }\n",
       "\n",
       "    .dataframe tbody tr th {\n",
       "        vertical-align: top;\n",
       "    }\n",
       "</style>\n",
       "<table border=\"1\" class=\"dataframe\">\n",
       "  <thead>\n",
       "    <tr style=\"text-align: right;\">\n",
       "      <th></th>\n",
       "      <th>Import Date</th>\n",
       "      <th>Submitting Operator</th>\n",
       "      <th>Well Operator</th>\n",
       "      <th>Well API County Code</th>\n",
       "      <th>Well API Sequence Code</th>\n",
       "      <th>Flowline Riser Type</th>\n",
       "      <th>Start Riser Latitude</th>\n",
       "      <th>Start Riser Longitude</th>\n",
       "      <th>Start Municipality</th>\n",
       "      <th>Start Point Active</th>\n",
       "      <th>...</th>\n",
       "      <th>End Point Municipality</th>\n",
       "      <th>End Point Active</th>\n",
       "      <th>End Scheduled For Abandonment</th>\n",
       "      <th>End Point Comment</th>\n",
       "      <th>Integrity Test Method</th>\n",
       "      <th>Integrity Test Date</th>\n",
       "      <th>Integrity Test Results</th>\n",
       "      <th>Integrity Test Action</th>\n",
       "      <th>Integrity Test Comment</th>\n",
       "      <th>Line Abandoned</th>\n",
       "    </tr>\n",
       "    <tr>\n",
       "      <th>ID</th>\n",
       "      <th></th>\n",
       "      <th></th>\n",
       "      <th></th>\n",
       "      <th></th>\n",
       "      <th></th>\n",
       "      <th></th>\n",
       "      <th></th>\n",
       "      <th></th>\n",
       "      <th></th>\n",
       "      <th></th>\n",
       "      <th></th>\n",
       "      <th></th>\n",
       "      <th></th>\n",
       "      <th></th>\n",
       "      <th></th>\n",
       "      <th></th>\n",
       "      <th></th>\n",
       "      <th></th>\n",
       "      <th></th>\n",
       "      <th></th>\n",
       "      <th></th>\n",
       "    </tr>\n",
       "  </thead>\n",
       "  <tbody>\n",
       "    <tr>\n",
       "      <th>1</th>\n",
       "      <td>5/19/17</td>\n",
       "      <td>AEON ENERGY CORP</td>\n",
       "      <td>AEON ENERGY CORP</td>\n",
       "      <td>115</td>\n",
       "      <td>06058</td>\n",
       "      <td>compressor</td>\n",
       "      <td>40.95584</td>\n",
       "      <td>-102.54253</td>\n",
       "      <td>NaN</td>\n",
       "      <td>YES</td>\n",
       "      <td>...</td>\n",
       "      <td>NaN</td>\n",
       "      <td>NaN</td>\n",
       "      <td>NaN</td>\n",
       "      <td>NaN</td>\n",
       "      <td>pressure test</td>\n",
       "      <td>NaN</td>\n",
       "      <td>Pass</td>\n",
       "      <td>NaN</td>\n",
       "      <td>NaN</td>\n",
       "      <td>NaN</td>\n",
       "    </tr>\n",
       "    <tr>\n",
       "      <th>2</th>\n",
       "      <td>5/19/17</td>\n",
       "      <td>AEON ENERGY CORP</td>\n",
       "      <td>AEON ENERGY CORP</td>\n",
       "      <td>115</td>\n",
       "      <td>06058</td>\n",
       "      <td>meter</td>\n",
       "      <td>40.95584</td>\n",
       "      <td>-102.54253</td>\n",
       "      <td>NaN</td>\n",
       "      <td>YES</td>\n",
       "      <td>...</td>\n",
       "      <td>NaN</td>\n",
       "      <td>NaN</td>\n",
       "      <td>NaN</td>\n",
       "      <td>NaN</td>\n",
       "      <td>pressure test</td>\n",
       "      <td>NaN</td>\n",
       "      <td>Pass</td>\n",
       "      <td>NaN</td>\n",
       "      <td>NaN</td>\n",
       "      <td>NaN</td>\n",
       "    </tr>\n",
       "    <tr>\n",
       "      <th>3</th>\n",
       "      <td>5/19/17</td>\n",
       "      <td>AEON ENERGY CORP</td>\n",
       "      <td>AEON ENERGY CORP</td>\n",
       "      <td>115</td>\n",
       "      <td>06058</td>\n",
       "      <td>separator</td>\n",
       "      <td>40.95584</td>\n",
       "      <td>-102.54253</td>\n",
       "      <td>NaN</td>\n",
       "      <td>YES</td>\n",
       "      <td>...</td>\n",
       "      <td>NaN</td>\n",
       "      <td>NaN</td>\n",
       "      <td>NaN</td>\n",
       "      <td>NaN</td>\n",
       "      <td>pressure test</td>\n",
       "      <td>NaN</td>\n",
       "      <td>Pass</td>\n",
       "      <td>NaN</td>\n",
       "      <td>NaN</td>\n",
       "      <td>NaN</td>\n",
       "    </tr>\n",
       "    <tr>\n",
       "      <th>4</th>\n",
       "      <td>5/19/17</td>\n",
       "      <td>AEON ENERGY CORP</td>\n",
       "      <td>AEON ENERGY CORP</td>\n",
       "      <td>115</td>\n",
       "      <td>06058</td>\n",
       "      <td>wellhead riser</td>\n",
       "      <td>40.95584</td>\n",
       "      <td>-102.54253</td>\n",
       "      <td>NaN</td>\n",
       "      <td>YES</td>\n",
       "      <td>...</td>\n",
       "      <td>NaN</td>\n",
       "      <td>NaN</td>\n",
       "      <td>NaN</td>\n",
       "      <td>NaN</td>\n",
       "      <td>pressure test</td>\n",
       "      <td>NaN</td>\n",
       "      <td>Pass</td>\n",
       "      <td>NaN</td>\n",
       "      <td>NaN</td>\n",
       "      <td>NaN</td>\n",
       "    </tr>\n",
       "    <tr>\n",
       "      <th>5</th>\n",
       "      <td>5/19/17</td>\n",
       "      <td>AEON ENERGY CORP</td>\n",
       "      <td>AEON ENERGY CORP</td>\n",
       "      <td>115</td>\n",
       "      <td>05045</td>\n",
       "      <td>compressor</td>\n",
       "      <td>40.95585</td>\n",
       "      <td>-102.53921</td>\n",
       "      <td>NaN</td>\n",
       "      <td>YES</td>\n",
       "      <td>...</td>\n",
       "      <td>NaN</td>\n",
       "      <td>NaN</td>\n",
       "      <td>NaN</td>\n",
       "      <td>NaN</td>\n",
       "      <td>pressure test</td>\n",
       "      <td>NaN</td>\n",
       "      <td>Pass</td>\n",
       "      <td>NaN</td>\n",
       "      <td>NaN</td>\n",
       "      <td>NaN</td>\n",
       "    </tr>\n",
       "  </tbody>\n",
       "</table>\n",
       "<p>5 rows × 24 columns</p>\n",
       "</div>"
      ],
      "text/plain": [
       "   Import Date Submitting Operator     Well Operator Well API County Code  \\\n",
       "ID                                                                          \n",
       "1      5/19/17    AEON ENERGY CORP  AEON ENERGY CORP                  115   \n",
       "2      5/19/17    AEON ENERGY CORP  AEON ENERGY CORP                  115   \n",
       "3      5/19/17    AEON ENERGY CORP  AEON ENERGY CORP                  115   \n",
       "4      5/19/17    AEON ENERGY CORP  AEON ENERGY CORP                  115   \n",
       "5      5/19/17    AEON ENERGY CORP  AEON ENERGY CORP                  115   \n",
       "\n",
       "   Well API Sequence Code Flowline Riser Type  Start Riser Latitude  \\\n",
       "ID                                                                    \n",
       "1                   06058          compressor              40.95584   \n",
       "2                   06058               meter              40.95584   \n",
       "3                   06058           separator              40.95584   \n",
       "4                   06058      wellhead riser              40.95584   \n",
       "5                   05045          compressor              40.95585   \n",
       "\n",
       "    Start Riser Longitude Start Municipality Start Point Active  \\\n",
       "ID                                                                \n",
       "1              -102.54253                NaN                YES   \n",
       "2              -102.54253                NaN                YES   \n",
       "3              -102.54253                NaN                YES   \n",
       "4              -102.54253                NaN                YES   \n",
       "5              -102.53921                NaN                YES   \n",
       "\n",
       "        ...       End Point Municipality End Point Active  \\\n",
       "ID      ...                                                 \n",
       "1       ...                          NaN              NaN   \n",
       "2       ...                          NaN              NaN   \n",
       "3       ...                          NaN              NaN   \n",
       "4       ...                          NaN              NaN   \n",
       "5       ...                          NaN              NaN   \n",
       "\n",
       "    End Scheduled For Abandonment  End Point Comment Integrity Test Method  \\\n",
       "ID                                                                           \n",
       "1                             NaN                NaN         pressure test   \n",
       "2                             NaN                NaN         pressure test   \n",
       "3                             NaN                NaN         pressure test   \n",
       "4                             NaN                NaN         pressure test   \n",
       "5                             NaN                NaN         pressure test   \n",
       "\n",
       "   Integrity Test Date Integrity Test Results Integrity Test Action  \\\n",
       "ID                                                                    \n",
       "1                  NaN                   Pass                   NaN   \n",
       "2                  NaN                   Pass                   NaN   \n",
       "3                  NaN                   Pass                   NaN   \n",
       "4                  NaN                   Pass                   NaN   \n",
       "5                  NaN                   Pass                   NaN   \n",
       "\n",
       "   Integrity Test Comment Line Abandoned  \n",
       "ID                                        \n",
       "1                     NaN            NaN  \n",
       "2                     NaN            NaN  \n",
       "3                     NaN            NaN  \n",
       "4                     NaN            NaN  \n",
       "5                     NaN            NaN  \n",
       "\n",
       "[5 rows x 24 columns]"
      ]
     },
     "execution_count": 336,
     "metadata": {},
     "output_type": "execute_result"
    }
   ],
   "source": [
    "flowline.head()"
   ]
  },
  {
   "cell_type": "code",
   "execution_count": 337,
   "metadata": {},
   "outputs": [
    {
     "data": {
      "text/plain": [
       "Index(['Import Date', 'Submitting Operator', 'Well Operator',\n",
       "       'Well API County Code', 'Well API Sequence Code', 'Flowline Riser Type',\n",
       "       'Start Riser Latitude', 'Start Riser Longitude', 'Start Municipality',\n",
       "       'Start Point Active', 'Start Scheduled For Abandonment',\n",
       "       'Start Comment', 'End Point Latitude', 'End PointLongitude',\n",
       "       'End Point Municipality', 'End Point Active',\n",
       "       'End Scheduled For Abandonment', 'End Point Comment',\n",
       "       'Integrity Test Method', 'Integrity Test Date',\n",
       "       'Integrity Test Results', 'Integrity Test Action',\n",
       "       'Integrity Test Comment', 'Line Abandoned'],\n",
       "      dtype='object')"
      ]
     },
     "execution_count": 337,
     "metadata": {},
     "output_type": "execute_result"
    }
   ],
   "source": [
    "flowline.columns"
   ]
  },
  {
   "cell_type": "code",
   "execution_count": 338,
   "metadata": {},
   "outputs": [
    {
     "name": "stdout",
     "output_type": "stream",
     "text": [
      "       Start Riser Latitude  Start Riser Longitude  End Point Latitude  \\\n",
      "count          2.735100e+05          273504.000000        3.089620e+05   \n",
      "mean           1.192936e+03            -105.110075        1.060681e+03   \n",
      "std            1.285569e+05               1.746219        1.209565e+05   \n",
      "min           -1.081236e+02            -140.603000       -1.081237e+02   \n",
      "25%            4.006736e+01            -104.939560        4.007796e+01   \n",
      "50%            4.017946e+01            -104.815740        4.017701e+01   \n",
      "75%            4.030839e+01            -104.686290        4.028684e+01   \n",
      "max            1.433487e+07             -10.454476        1.433485e+07   \n",
      "\n",
      "       End PointLongitude  \n",
      "count       308965.000000  \n",
      "mean          -105.037913  \n",
      "std              3.035536  \n",
      "min          -1104.837335  \n",
      "25%           -104.930752  \n",
      "50%           -104.815650  \n",
      "75%           -104.693830  \n",
      "max              0.000000  \n"
     ]
    }
   ],
   "source": [
    "print(flowline.describe())"
   ]
  },
  {
   "cell_type": "code",
   "execution_count": 339,
   "metadata": {},
   "outputs": [
    {
     "name": "stdout",
     "output_type": "stream",
     "text": [
      "False    210427\n",
      "True     106800\n",
      "dtype: int64\n"
     ]
    }
   ],
   "source": [
    "flowline_dup = flowline.duplicated()\n",
    "print(flowline_dup.value_counts())"
   ]
  },
  {
   "cell_type": "markdown",
   "metadata": {},
   "source": [
    "### Pass, Fail, and No test were reported many different ways. This code just combines the different ways of stating 'Pass', 'Fail', and 'No test'"
   ]
  },
  {
   "cell_type": "code",
   "execution_count": 345,
   "metadata": {},
   "outputs": [
    {
     "name": "stdout",
     "output_type": "stream",
     "text": [
      "Pass              108308\n",
      "PASS               31489\n",
      "Fail                 490\n",
      "FAIL                 302\n",
      "pass                 189\n",
      "Yes                  158\n",
      "No                    14\n",
      "Not Applicable        12\n",
      "No test                3\n",
      "fail                   2\n",
      "-                      2\n",
      "P                      1\n",
      "Name: Integrity Test Results, dtype: int64\n"
     ]
    }
   ],
   "source": [
    "print(flowline['Integrity Test Results'].value_counts())"
   ]
  },
  {
   "cell_type": "code",
   "execution_count": 346,
   "metadata": {},
   "outputs": [
    {
     "name": "stdout",
     "output_type": "stream",
     "text": [
      "No Data           176257\n",
      "Pass              108308\n",
      "PASS               31489\n",
      "Fail                 490\n",
      "FAIL                 302\n",
      "pass                 189\n",
      "Yes                  158\n",
      "No                    14\n",
      "Not Applicable        12\n",
      "No test                3\n",
      "fail                   2\n",
      "-                      2\n",
      "P                      1\n",
      "Name: Integrity Test Results, dtype: int64\n"
     ]
    }
   ],
   "source": [
    "# Replace NaN with 'No test'\n",
    "flowline['Integrity Test Results'] = flowline['Integrity Test Results'].fillna('No Data')\n",
    "flowline['Integrity Test Results'].astype(str)\n",
    "print(flowline['Integrity Test Results'].value_counts())"
   ]
  },
  {
   "cell_type": "markdown",
   "metadata": {},
   "source": [
    "# All lines (Assuming unique IDs are unique wells)"
   ]
  },
  {
   "cell_type": "code",
   "execution_count": 344,
   "metadata": {},
   "outputs": [
    {
     "name": "stdout",
     "output_type": "stream",
     "text": [
      "Total Wells Assuming All Are Unique: 317227\n"
     ]
    }
   ],
   "source": [
    "print('Total Wells Assuming All Are Unique:', flowline.shape[0])"
   ]
  },
  {
   "cell_type": "code",
   "execution_count": 368,
   "metadata": {},
   "outputs": [
    {
     "name": "stdout",
     "output_type": "stream",
     "text": [
      "Test Results For All Wells Assuming All Are Unique:\n",
      "No Data    176274\n",
      "Pass       140145\n",
      "Fail          808\n",
      "Name: Integrity Test Results, dtype: int64\n"
     ]
    }
   ],
   "source": [
    "flowline['Integrity Test Results'] = flowline['Integrity Test Results'].replace(\n",
    "                                {'PASS': 'Pass', 'pass':'Pass', 'Yes':'Pass', 'P':'Pass', \n",
    "                                 'FAIL':'Fail', 'No':'Fail', 'fail':'Fail',\n",
    "                                 'Not Applicable':'No Data', '-':'No Data', \n",
    "                                 'NaN':'No Data', 'No test':'No Data'})\n",
    "print('Test Results For All Wells Assuming All Are Unique:')\n",
    "print(flowline['Integrity Test Results'].value_counts())"
   ]
  },
  {
   "cell_type": "markdown",
   "metadata": {},
   "source": [
    "## Broomfield (County Code 14)"
   ]
  },
  {
   "cell_type": "code",
   "execution_count": 349,
   "metadata": {},
   "outputs": [
    {
     "name": "stdout",
     "output_type": "stream",
     "text": [
      "Number of Wells in Broomfield: 643\n"
     ]
    }
   ],
   "source": [
    "print('Number of Wells in Broomfield:', \n",
    "      flowline['Integrity Test Results'][flowline['Well API County Code'] == \n",
    "                                         '014'].count())"
   ]
  },
  {
   "cell_type": "code",
   "execution_count": 363,
   "metadata": {},
   "outputs": [
    {
     "name": "stdout",
     "output_type": "stream",
     "text": [
      "Test Results for Broomfield Wells:\n",
      "No Data    323\n",
      "Pass       319\n",
      "Fail         1\n",
      "Name: Integrity Test Results, dtype: int64\n"
     ]
    }
   ],
   "source": [
    "print('Test Results for Broomfield Wells:')\n",
    "print(flowline['Integrity Test Results'][flowline['Well API County Code'] == \n",
    "                                         '014'].value_counts())"
   ]
  },
  {
   "cell_type": "markdown",
   "metadata": {},
   "source": [
    "## Extraction Oil & Gas Wells"
   ]
  },
  {
   "cell_type": "code",
   "execution_count": 352,
   "metadata": {},
   "outputs": [
    {
     "name": "stdout",
     "output_type": "stream",
     "text": [
      "Number of Extraction Operated Wells: 3752\n"
     ]
    }
   ],
   "source": [
    "print('Number of Extraction Operated Wells:', \n",
    "      flowline['Integrity Test Results'][flowline['Well Operator'] == \n",
    "                                                 'EXTRACTION OIL & GAS INC'].count())"
   ]
  },
  {
   "cell_type": "code",
   "execution_count": 353,
   "metadata": {},
   "outputs": [
    {
     "name": "stdout",
     "output_type": "stream",
     "text": [
      "Test Results for Extraction Wells:\n",
      "Pass       2403\n",
      "No Data    1334\n",
      "Fail         15\n",
      "Name: Integrity Test Results, dtype: int64\n"
     ]
    }
   ],
   "source": [
    "print('Test Results for Extraction Wells:')\n",
    "print(flowline['Integrity Test Results'][flowline['Well Operator'] == \n",
    "                                         'EXTRACTION OIL & GAS INC'].value_counts())"
   ]
  },
  {
   "cell_type": "markdown",
   "metadata": {},
   "source": [
    "# All lines (Assuming there are duplicates)"
   ]
  },
  {
   "cell_type": "code",
   "execution_count": 354,
   "metadata": {},
   "outputs": [
    {
     "name": "stdout",
     "output_type": "stream",
     "text": [
      "Total Wells After Dropping Duplicates: 210427\n"
     ]
    }
   ],
   "source": [
    "flowline_nodup = flowline.drop_duplicates()\n",
    "print('Total Wells After Dropping Duplicates:', flowline_nodup.shape[0])"
   ]
  },
  {
   "cell_type": "code",
   "execution_count": 362,
   "metadata": {},
   "outputs": [
    {
     "name": "stdout",
     "output_type": "stream",
     "text": [
      "Test Results for All Wells After Dropping Duplicates:\n",
      "No Data    120990\n",
      "Pass        88901\n",
      "Fail          536\n",
      "Name: Integrity Test Results, dtype: int64\n"
     ]
    }
   ],
   "source": [
    "print('Test Results for All Wells After Dropping Duplicates:')\n",
    "print(flowline_nodup['Integrity Test Results'].value_counts())"
   ]
  },
  {
   "cell_type": "markdown",
   "metadata": {},
   "source": [
    "## Broomfield (County Code 14)"
   ]
  },
  {
   "cell_type": "code",
   "execution_count": 357,
   "metadata": {},
   "outputs": [
    {
     "name": "stdout",
     "output_type": "stream",
     "text": [
      "Number of Wells in Broomfield: 605\n"
     ]
    }
   ],
   "source": [
    "print('Number of Wells in Broomfield:', \n",
    "      flowline_nodup['Integrity Test Results'][flowline_nodup['Well API County Code'] == \n",
    "                                         '014'].count())"
   ]
  },
  {
   "cell_type": "code",
   "execution_count": 361,
   "metadata": {},
   "outputs": [
    {
     "name": "stdout",
     "output_type": "stream",
     "text": [
      "Test Results for Broomfield Wells:\n",
      "Pass       303\n",
      "No Data    301\n",
      "Fail         1\n",
      "Name: Integrity Test Results, dtype: int64\n"
     ]
    }
   ],
   "source": [
    "print('Test Results for Broomfield Wells:')\n",
    "print(flowline_nodup['Integrity Test Results'][flowline_nodup['Well API County Code'] == \n",
    "                                         '014'].value_counts())"
   ]
  },
  {
   "cell_type": "markdown",
   "metadata": {},
   "source": [
    "## Extraction Oil & Gas Wells"
   ]
  },
  {
   "cell_type": "code",
   "execution_count": 359,
   "metadata": {},
   "outputs": [
    {
     "name": "stdout",
     "output_type": "stream",
     "text": [
      "Number of Extraction Operated Wells: 3646\n"
     ]
    }
   ],
   "source": [
    "print('Number of Extraction Operated Wells:', \n",
    "      flowline_nodup['Integrity Test Results'][flowline_nodup['Well Operator'] == \n",
    "                                                 'EXTRACTION OIL & GAS INC'].count())"
   ]
  },
  {
   "cell_type": "code",
   "execution_count": 360,
   "metadata": {},
   "outputs": [
    {
     "name": "stdout",
     "output_type": "stream",
     "text": [
      "Test Results for Extraction Wells:\n",
      "Pass       2403\n",
      "No Data    1334\n",
      "Fail         15\n",
      "Name: Integrity Test Results, dtype: int64\n"
     ]
    }
   ],
   "source": [
    "print('Test Results for Extraction Wells:')\n",
    "print(flowline['Integrity Test Results'][flowline['Well Operator'] == \n",
    "                                         'EXTRACTION OIL & GAS INC'].value_counts())"
   ]
  },
  {
   "cell_type": "code",
   "execution_count": null,
   "metadata": {
    "collapsed": true
   },
   "outputs": [],
   "source": []
  }
 ],
 "metadata": {
  "kernelspec": {
   "display_name": "Python 3",
   "language": "python",
   "name": "python3"
  },
  "language_info": {
   "codemirror_mode": {
    "name": "ipython",
    "version": 3
   },
   "file_extension": ".py",
   "mimetype": "text/x-python",
   "name": "python",
   "nbconvert_exporter": "python",
   "pygments_lexer": "ipython3",
   "version": "3.6.1"
  }
 },
 "nbformat": 4,
 "nbformat_minor": 2
}
