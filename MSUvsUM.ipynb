{
 "cells": [
  {
   "cell_type": "markdown",
   "metadata": {},
   "source": [
    "# Will Michigan State Unversity win the next MSU vs UM football game? "
   ]
  },
  {
   "cell_type": "markdown",
   "metadata": {},
   "source": [
    "This was my first independent data science project. I earned my BS from Michigan State University and thought it would be fun to try predicting the outcome of our rivalry football game. I also wanted to practice pulling data from different sources and cleaning the data to fit my needs. I'm aware that this is an extremely small dataset and number of features to train a machine learning model with, but this was mostly a fun personal project. I wanted to play around with all of the tools I was learning from MOOCs."
   ]
  },
  {
   "cell_type": "markdown",
   "metadata": {},
   "source": [
    "***"
   ]
  },
  {
   "cell_type": "markdown",
   "metadata": {},
   "source": [
    "## Importing the needed libraries"
   ]
  },
  {
   "cell_type": "code",
   "execution_count": 190,
   "metadata": {},
   "outputs": [],
   "source": [
    "import requests\n",
    "import numpy as np\n",
    "import pandas as pd\n",
    "from bs4 import BeautifulSoup\n",
    "from sklearn.model_selection import train_test_split\n",
    "import seaborn as sns\n",
    "import matplotlib.pyplot as plt\n",
    "from sklearn.preprocessing import StandardScaler\n",
    "from sklearn.linear_model import LogisticRegression\n",
    "from sklearn import neighbors\n",
    "from sklearn.svm import SVC\n",
    "from sklearn.metrics import confusion_matrix, accuracy_score, classification_report, roc_curve, roc_auc_score\n",
    "from sklearn.model_selection import cross_val_score, GridSearchCV\n",
    "from sklearn.ensemble import RandomForestClassifier\n",
    "\n",
    "%matplotlib inline"
   ]
  },
  {
   "cell_type": "markdown",
   "metadata": {},
   "source": [
    "## Import the Past Game Results From Wikipedia"
   ]
  },
  {
   "cell_type": "markdown",
   "metadata": {},
   "source": [
    "This table from Wikipedia includes the year, where the game was played, the winner, and the score."
   ]
  },
  {
   "cell_type": "code",
   "execution_count": 191,
   "metadata": {
    "collapsed": true
   },
   "outputs": [],
   "source": [
    "R_url = 'https://en.wikipedia.org/wiki/Michigan%E2%80%93Michigan_State_football_rivalry'\n",
    "R_r = requests.get(R_url)\n",
    "R_soup = BeautifulSoup(R_r.content, 'lxml')\n",
    "\n",
    "R_tables = R_soup.find_all(\"table\", attrs = {\"class\" : \"wikitable\"})\n",
    "R_table2 = R_tables[2]\n",
    "R_table3 = R_tables[3]\n",
    "\n",
    "R_column_names = [th.getText() for th in \n",
    "           R_table2.findAll('tr', limit=2)[0].findAll('th')[1:]]\n",
    "R_rows = R_table2.findAll('tr')[1:] + R_table3.findAll('tr')[1:]\n",
    "game_results = [[td.getText() for td in R_rows[i].findAll('td')[1:]] \n",
    "                for i in range(len(R_rows) - 2)]\n",
    "\n",
    "df = pd.DataFrame(game_results, columns = R_column_names)\n",
    "df = df.rename(columns={'Date': 'Year'})\n",
    "df.Year = df.Year.astype(int)\n",
    "df.Winner = df.Winner.apply(lambda x: 'State' if 'State' in x\n",
    "                                    else 'Tie' if 'Tie' in x else 'Michigan')\n"
   ]
  },
  {
   "cell_type": "code",
   "execution_count": 192,
   "metadata": {},
   "outputs": [
    {
     "data": {
      "text/html": [
       "<div>\n",
       "<style>\n",
       "    .dataframe thead tr:only-child th {\n",
       "        text-align: right;\n",
       "    }\n",
       "\n",
       "    .dataframe thead th {\n",
       "        text-align: left;\n",
       "    }\n",
       "\n",
       "    .dataframe tbody tr th {\n",
       "        vertical-align: top;\n",
       "    }\n",
       "</style>\n",
       "<table border=\"1\" class=\"dataframe\">\n",
       "  <thead>\n",
       "    <tr style=\"text-align: right;\">\n",
       "      <th></th>\n",
       "      <th>Year</th>\n",
       "      <th>Location</th>\n",
       "      <th>Winner</th>\n",
       "      <th>Score</th>\n",
       "    </tr>\n",
       "  </thead>\n",
       "  <tbody>\n",
       "    <tr>\n",
       "      <th>0</th>\n",
       "      <td>1898</td>\n",
       "      <td>Ann Arbor</td>\n",
       "      <td>Michigan</td>\n",
       "      <td>39–2</td>\n",
       "    </tr>\n",
       "    <tr>\n",
       "      <th>1</th>\n",
       "      <td>1902</td>\n",
       "      <td>Ann Arbor</td>\n",
       "      <td>Michigan</td>\n",
       "      <td>119–0</td>\n",
       "    </tr>\n",
       "    <tr>\n",
       "      <th>2</th>\n",
       "      <td>1907</td>\n",
       "      <td>Ann Arbor</td>\n",
       "      <td>Michigan</td>\n",
       "      <td>46–0</td>\n",
       "    </tr>\n",
       "    <tr>\n",
       "      <th>3</th>\n",
       "      <td>1908</td>\n",
       "      <td>East Lansing</td>\n",
       "      <td>Tie</td>\n",
       "      <td>0–0</td>\n",
       "    </tr>\n",
       "    <tr>\n",
       "      <th>4</th>\n",
       "      <td>1910</td>\n",
       "      <td>Ann Arbor</td>\n",
       "      <td>Michigan</td>\n",
       "      <td>6–3</td>\n",
       "    </tr>\n",
       "  </tbody>\n",
       "</table>\n",
       "</div>"
      ],
      "text/plain": [
       "   Year      Location    Winner  Score\n",
       "0  1898     Ann Arbor  Michigan   39–2\n",
       "1  1902     Ann Arbor  Michigan  119–0\n",
       "2  1907     Ann Arbor  Michigan   46–0\n",
       "3  1908  East Lansing       Tie    0–0\n",
       "4  1910     Ann Arbor  Michigan    6–3"
      ]
     },
     "execution_count": 192,
     "metadata": {},
     "output_type": "execute_result"
    }
   ],
   "source": [
    "df[:5]"
   ]
  },
  {
   "cell_type": "markdown",
   "metadata": {},
   "source": [
    "## Import the MSU's Football Coach for Each Year of the Past Years"
   ]
  },
  {
   "cell_type": "markdown",
   "metadata": {},
   "source": [
    "I also wanted to include the coach for each year, so I needed to find another table that listed the coaches."
   ]
  },
  {
   "cell_type": "code",
   "execution_count": 193,
   "metadata": {
    "collapsed": true
   },
   "outputs": [],
   "source": [
    "C_url = 'https://en.wikipedia.org/wiki/Michigan_State_Spartans_football'\n",
    "C_r = requests.get(C_url)\n",
    "C_soup = BeautifulSoup(C_r.content, 'lxml')\n",
    "\n",
    "C_tables = C_soup.find_all(\"table\", attrs = {\"class\" : \"wikitable\"}, limit=2)\n",
    "C_table = C_tables[0]\n",
    "\n",
    "C_column_names = [th.getText() for th in \n",
    "           C_table.findAll('tr', limit=1)[0].findAll('th')[:2]]\n",
    "C_rows = C_table.findAll('tr')[2:]\n",
    "coach = [[td.getText() for td in C_rows[i].findAll('td')[:2]] \n",
    "                for i in range(len(C_rows) - 1)]\n",
    "\n",
    "coach_df = pd.DataFrame(coach, columns = C_column_names)\n",
    "coach_df.Years = coach_df.Years.apply(lambda x: x.replace('present', '2017'))"
   ]
  },
  {
   "cell_type": "code",
   "execution_count": 194,
   "metadata": {},
   "outputs": [
    {
     "data": {
      "text/html": [
       "<div>\n",
       "<style>\n",
       "    .dataframe thead tr:only-child th {\n",
       "        text-align: right;\n",
       "    }\n",
       "\n",
       "    .dataframe thead th {\n",
       "        text-align: left;\n",
       "    }\n",
       "\n",
       "    .dataframe tbody tr th {\n",
       "        vertical-align: top;\n",
       "    }\n",
       "</style>\n",
       "<table border=\"1\" class=\"dataframe\">\n",
       "  <thead>\n",
       "    <tr style=\"text-align: right;\">\n",
       "      <th></th>\n",
       "      <th>Coach</th>\n",
       "      <th>Years</th>\n",
       "    </tr>\n",
       "  </thead>\n",
       "  <tbody>\n",
       "    <tr>\n",
       "      <th>0</th>\n",
       "      <td>Henry Keep</td>\n",
       "      <td>1897–1898</td>\n",
       "    </tr>\n",
       "    <tr>\n",
       "      <th>1</th>\n",
       "      <td>Charles Bemies</td>\n",
       "      <td>1899–1900</td>\n",
       "    </tr>\n",
       "    <tr>\n",
       "      <th>2</th>\n",
       "      <td>George Denman</td>\n",
       "      <td>1901–1902</td>\n",
       "    </tr>\n",
       "    <tr>\n",
       "      <th>3</th>\n",
       "      <td>Chester Brewer</td>\n",
       "      <td>1903–1910, 1917, 1919</td>\n",
       "    </tr>\n",
       "    <tr>\n",
       "      <th>4</th>\n",
       "      <td>John Macklin</td>\n",
       "      <td>1911–1915</td>\n",
       "    </tr>\n",
       "  </tbody>\n",
       "</table>\n",
       "</div>"
      ],
      "text/plain": [
       "            Coach                  Years\n",
       "0      Henry Keep              1897–1898\n",
       "1  Charles Bemies              1899–1900\n",
       "2   George Denman              1901–1902\n",
       "3  Chester Brewer  1903–1910, 1917, 1919\n",
       "4    John Macklin              1911–1915"
      ]
     },
     "execution_count": 194,
     "metadata": {},
     "output_type": "execute_result"
    }
   ],
   "source": [
    "coach_df[:5]"
   ]
  },
  {
   "cell_type": "markdown",
   "metadata": {},
   "source": [
    "### Because the table containing the coach information listed the years as a range. I needed to list out each year individually to merge the table of coaches with my first dataframe of results."
   ]
  },
  {
   "cell_type": "code",
   "execution_count": 195,
   "metadata": {
    "collapsed": true
   },
   "outputs": [],
   "source": [
    "listed_years = []\n",
    "def fix_years(column):  \n",
    "    for row in column:\n",
    "        string = str(row)\n",
    "        endash = '–'\n",
    "        years = string.split(', ')\n",
    "        new_list = []\n",
    "        for year in years:\n",
    "            if endash in year:\n",
    "                start, finish = year.split(endash)\n",
    "                new_list.extend(range(int(start), int(finish) + 1))\n",
    "            else:\n",
    "                new_list.append(int(year))\n",
    "        listed_years.append(str(new_list))\n",
    "   \n",
    "fix_years(coach_df.Years)\n",
    "coach_df['Listed Years'] = listed_years  "
   ]
  },
  {
   "cell_type": "code",
   "execution_count": 196,
   "metadata": {},
   "outputs": [
    {
     "data": {
      "text/html": [
       "<div>\n",
       "<style>\n",
       "    .dataframe thead tr:only-child th {\n",
       "        text-align: right;\n",
       "    }\n",
       "\n",
       "    .dataframe thead th {\n",
       "        text-align: left;\n",
       "    }\n",
       "\n",
       "    .dataframe tbody tr th {\n",
       "        vertical-align: top;\n",
       "    }\n",
       "</style>\n",
       "<table border=\"1\" class=\"dataframe\">\n",
       "  <thead>\n",
       "    <tr style=\"text-align: right;\">\n",
       "      <th></th>\n",
       "      <th>Coach</th>\n",
       "      <th>Years</th>\n",
       "      <th>Listed Years</th>\n",
       "    </tr>\n",
       "  </thead>\n",
       "  <tbody>\n",
       "    <tr>\n",
       "      <th>0</th>\n",
       "      <td>Henry Keep</td>\n",
       "      <td>1897–1898</td>\n",
       "      <td>[1897, 1898]</td>\n",
       "    </tr>\n",
       "    <tr>\n",
       "      <th>1</th>\n",
       "      <td>Charles Bemies</td>\n",
       "      <td>1899–1900</td>\n",
       "      <td>[1899, 1900]</td>\n",
       "    </tr>\n",
       "    <tr>\n",
       "      <th>2</th>\n",
       "      <td>George Denman</td>\n",
       "      <td>1901–1902</td>\n",
       "      <td>[1901, 1902]</td>\n",
       "    </tr>\n",
       "    <tr>\n",
       "      <th>3</th>\n",
       "      <td>Chester Brewer</td>\n",
       "      <td>1903–1910, 1917, 1919</td>\n",
       "      <td>[1903, 1904, 1905, 1906, 1907, 1908, 1909, 191...</td>\n",
       "    </tr>\n",
       "    <tr>\n",
       "      <th>4</th>\n",
       "      <td>John Macklin</td>\n",
       "      <td>1911–1915</td>\n",
       "      <td>[1911, 1912, 1913, 1914, 1915]</td>\n",
       "    </tr>\n",
       "  </tbody>\n",
       "</table>\n",
       "</div>"
      ],
      "text/plain": [
       "            Coach                  Years  \\\n",
       "0      Henry Keep              1897–1898   \n",
       "1  Charles Bemies              1899–1900   \n",
       "2   George Denman              1901–1902   \n",
       "3  Chester Brewer  1903–1910, 1917, 1919   \n",
       "4    John Macklin              1911–1915   \n",
       "\n",
       "                                        Listed Years  \n",
       "0                                       [1897, 1898]  \n",
       "1                                       [1899, 1900]  \n",
       "2                                       [1901, 1902]  \n",
       "3  [1903, 1904, 1905, 1906, 1907, 1908, 1909, 191...  \n",
       "4                     [1911, 1912, 1913, 1914, 1915]  "
      ]
     },
     "execution_count": 196,
     "metadata": {},
     "output_type": "execute_result"
    }
   ],
   "source": [
    "coach_df[:5]"
   ]
  },
  {
   "cell_type": "markdown",
   "metadata": {},
   "source": [
    "### Add a coach column to the features dataframe"
   ]
  },
  {
   "cell_type": "code",
   "execution_count": 197,
   "metadata": {
    "collapsed": true
   },
   "outputs": [],
   "source": [
    "coach_dict = coach_df.set_index('Coach')['Listed Years'].to_dict()\n",
    "\n",
    "def search_dict(dict, search_for):\n",
    "    for key in dict.keys():\n",
    "        if search_for in dict[key]:\n",
    "            return key\n",
    "\n",
    "df['Coach'] = df.apply(lambda x: search_dict(coach_dict, str(x['Year'])), \n",
    "                     axis = 1)"
   ]
  },
  {
   "cell_type": "code",
   "execution_count": 198,
   "metadata": {},
   "outputs": [
    {
     "data": {
      "text/html": [
       "<div>\n",
       "<style>\n",
       "    .dataframe thead tr:only-child th {\n",
       "        text-align: right;\n",
       "    }\n",
       "\n",
       "    .dataframe thead th {\n",
       "        text-align: left;\n",
       "    }\n",
       "\n",
       "    .dataframe tbody tr th {\n",
       "        vertical-align: top;\n",
       "    }\n",
       "</style>\n",
       "<table border=\"1\" class=\"dataframe\">\n",
       "  <thead>\n",
       "    <tr style=\"text-align: right;\">\n",
       "      <th></th>\n",
       "      <th>Year</th>\n",
       "      <th>Location</th>\n",
       "      <th>Winner</th>\n",
       "      <th>Score</th>\n",
       "      <th>Coach</th>\n",
       "    </tr>\n",
       "  </thead>\n",
       "  <tbody>\n",
       "    <tr>\n",
       "      <th>0</th>\n",
       "      <td>1898</td>\n",
       "      <td>Ann Arbor</td>\n",
       "      <td>Michigan</td>\n",
       "      <td>39–2</td>\n",
       "      <td>Henry Keep</td>\n",
       "    </tr>\n",
       "    <tr>\n",
       "      <th>1</th>\n",
       "      <td>1902</td>\n",
       "      <td>Ann Arbor</td>\n",
       "      <td>Michigan</td>\n",
       "      <td>119–0</td>\n",
       "      <td>George Denman</td>\n",
       "    </tr>\n",
       "    <tr>\n",
       "      <th>2</th>\n",
       "      <td>1907</td>\n",
       "      <td>Ann Arbor</td>\n",
       "      <td>Michigan</td>\n",
       "      <td>46–0</td>\n",
       "      <td>Chester Brewer</td>\n",
       "    </tr>\n",
       "    <tr>\n",
       "      <th>3</th>\n",
       "      <td>1908</td>\n",
       "      <td>East Lansing</td>\n",
       "      <td>Tie</td>\n",
       "      <td>0–0</td>\n",
       "      <td>Chester Brewer</td>\n",
       "    </tr>\n",
       "    <tr>\n",
       "      <th>4</th>\n",
       "      <td>1910</td>\n",
       "      <td>Ann Arbor</td>\n",
       "      <td>Michigan</td>\n",
       "      <td>6–3</td>\n",
       "      <td>Chester Brewer</td>\n",
       "    </tr>\n",
       "  </tbody>\n",
       "</table>\n",
       "</div>"
      ],
      "text/plain": [
       "   Year      Location    Winner  Score           Coach\n",
       "0  1898     Ann Arbor  Michigan   39–2      Henry Keep\n",
       "1  1902     Ann Arbor  Michigan  119–0   George Denman\n",
       "2  1907     Ann Arbor  Michigan   46–0  Chester Brewer\n",
       "3  1908  East Lansing       Tie    0–0  Chester Brewer\n",
       "4  1910     Ann Arbor  Michigan    6–3  Chester Brewer"
      ]
     },
     "execution_count": 198,
     "metadata": {},
     "output_type": "execute_result"
    }
   ],
   "source": [
    "df[:5]"
   ]
  },
  {
   "cell_type": "markdown",
   "metadata": {},
   "source": [
    "### Was it a new coach that year?\n",
    "I thought it would interesting to see if the outcome of the game had any relationship to whether or not MSU had a new football coach that year."
   ]
  },
  {
   "cell_type": "code",
   "execution_count": 199,
   "metadata": {
    "collapsed": true
   },
   "outputs": [],
   "source": [
    "df['New_Coach'] = df.Coach.ne(df.Coach.shift()).astype(int)"
   ]
  },
  {
   "cell_type": "code",
   "execution_count": 200,
   "metadata": {},
   "outputs": [
    {
     "data": {
      "text/html": [
       "<div>\n",
       "<style>\n",
       "    .dataframe thead tr:only-child th {\n",
       "        text-align: right;\n",
       "    }\n",
       "\n",
       "    .dataframe thead th {\n",
       "        text-align: left;\n",
       "    }\n",
       "\n",
       "    .dataframe tbody tr th {\n",
       "        vertical-align: top;\n",
       "    }\n",
       "</style>\n",
       "<table border=\"1\" class=\"dataframe\">\n",
       "  <thead>\n",
       "    <tr style=\"text-align: right;\">\n",
       "      <th></th>\n",
       "      <th>Year</th>\n",
       "      <th>Location</th>\n",
       "      <th>Winner</th>\n",
       "      <th>Score</th>\n",
       "      <th>Coach</th>\n",
       "      <th>New_Coach</th>\n",
       "    </tr>\n",
       "  </thead>\n",
       "  <tbody>\n",
       "    <tr>\n",
       "      <th>0</th>\n",
       "      <td>1898</td>\n",
       "      <td>Ann Arbor</td>\n",
       "      <td>Michigan</td>\n",
       "      <td>39–2</td>\n",
       "      <td>Henry Keep</td>\n",
       "      <td>1</td>\n",
       "    </tr>\n",
       "    <tr>\n",
       "      <th>1</th>\n",
       "      <td>1902</td>\n",
       "      <td>Ann Arbor</td>\n",
       "      <td>Michigan</td>\n",
       "      <td>119–0</td>\n",
       "      <td>George Denman</td>\n",
       "      <td>1</td>\n",
       "    </tr>\n",
       "    <tr>\n",
       "      <th>2</th>\n",
       "      <td>1907</td>\n",
       "      <td>Ann Arbor</td>\n",
       "      <td>Michigan</td>\n",
       "      <td>46–0</td>\n",
       "      <td>Chester Brewer</td>\n",
       "      <td>1</td>\n",
       "    </tr>\n",
       "    <tr>\n",
       "      <th>3</th>\n",
       "      <td>1908</td>\n",
       "      <td>East Lansing</td>\n",
       "      <td>Tie</td>\n",
       "      <td>0–0</td>\n",
       "      <td>Chester Brewer</td>\n",
       "      <td>0</td>\n",
       "    </tr>\n",
       "    <tr>\n",
       "      <th>4</th>\n",
       "      <td>1910</td>\n",
       "      <td>Ann Arbor</td>\n",
       "      <td>Michigan</td>\n",
       "      <td>6–3</td>\n",
       "      <td>Chester Brewer</td>\n",
       "      <td>0</td>\n",
       "    </tr>\n",
       "  </tbody>\n",
       "</table>\n",
       "</div>"
      ],
      "text/plain": [
       "   Year      Location    Winner  Score           Coach  New_Coach\n",
       "0  1898     Ann Arbor  Michigan   39–2      Henry Keep          1\n",
       "1  1902     Ann Arbor  Michigan  119–0   George Denman          1\n",
       "2  1907     Ann Arbor  Michigan   46–0  Chester Brewer          1\n",
       "3  1908  East Lansing       Tie    0–0  Chester Brewer          0\n",
       "4  1910     Ann Arbor  Michigan    6–3  Chester Brewer          0"
      ]
     },
     "execution_count": 200,
     "metadata": {},
     "output_type": "execute_result"
    }
   ],
   "source": [
    "df[:5]"
   ]
  },
  {
   "cell_type": "markdown",
   "metadata": {},
   "source": [
    "## Import Additional Statistics for Each of the Past Years\n",
    "I wanted to include more features in my model so I found another website that had some stats from MSU's past football teams. The downside of including more features was that I had to decrease the number of examples. The table that included more stats from MSU's football teams had data for fewer years than my original dataset."
   ]
  },
  {
   "cell_type": "code",
   "execution_count": 201,
   "metadata": {
    "collapsed": true
   },
   "outputs": [],
   "source": [
    "S_url = 'http://www.sports-reference.com/cfb/schools/michigan-state/index.html'\n",
    "S_r = requests.get(S_url)\n",
    "S_soup = BeautifulSoup(S_r.content, 'lxml')\n",
    "\n",
    "S_tables = S_soup.find_all(\"table\", attrs = {\"class\" : \"sortable stats_table\"})\n",
    "S_table = S_tables[0]\n",
    "\n",
    "S_column_names = [th.getText() for th in \n",
    "           S_table.findAll('tr', limit=2)[0].findAll('th')[1:]]\n",
    "S_rows = S_table.findAll('tr')[:]\n",
    "stats = [[td.getText() for td in S_rows[i].findAll(['td'])] \n",
    "                for i in range(len(S_rows))]\n",
    "\n",
    "stats_df = pd.DataFrame(stats, columns = S_column_names)"
   ]
  },
  {
   "cell_type": "code",
   "execution_count": 202,
   "metadata": {},
   "outputs": [],
   "source": [
    "stats_df = stats_df.drop([1])\n",
    "stats_df = stats_df[stats_df.Year.str.contains(\"None\") == False]\n",
    "stats_df = stats_df.drop(['Conf', 'Coach(es)', 'Notes'], axis = 1)\n",
    "stats_df = stats_df.rename(columns={'AP Pre': 'AP_Pre', 'AP High': 'AP_High', \n",
    "                                    'AP Post': 'AP_Post'})\n",
    "\n",
    "stats_df[['AP_Pre', 'AP_High', 'AP_Post']] = stats_df[['AP_Pre', 'AP_High', \n",
    "        'AP_Post']].applymap(lambda x: int(x) if x else 0)\n",
    "stats_df.Bowl = stats_df.Bowl.apply(lambda x: 1 if x else 0)\n",
    "stats_df = stats_df.apply(pd.to_numeric)"
   ]
  },
  {
   "cell_type": "code",
   "execution_count": 203,
   "metadata": {},
   "outputs": [
    {
     "data": {
      "text/html": [
       "<div>\n",
       "<style>\n",
       "    .dataframe thead tr:only-child th {\n",
       "        text-align: right;\n",
       "    }\n",
       "\n",
       "    .dataframe thead th {\n",
       "        text-align: left;\n",
       "    }\n",
       "\n",
       "    .dataframe tbody tr th {\n",
       "        vertical-align: top;\n",
       "    }\n",
       "</style>\n",
       "<table border=\"1\" class=\"dataframe\">\n",
       "  <thead>\n",
       "    <tr style=\"text-align: right;\">\n",
       "      <th></th>\n",
       "      <th>Year</th>\n",
       "      <th>W</th>\n",
       "      <th>L</th>\n",
       "      <th>T</th>\n",
       "      <th>Pct</th>\n",
       "      <th>SRS</th>\n",
       "      <th>SOS</th>\n",
       "      <th>AP_Pre</th>\n",
       "      <th>AP_High</th>\n",
       "      <th>AP_Post</th>\n",
       "      <th>Bowl</th>\n",
       "    </tr>\n",
       "  </thead>\n",
       "  <tbody>\n",
       "    <tr>\n",
       "      <th>2</th>\n",
       "      <td>2016</td>\n",
       "      <td>3</td>\n",
       "      <td>9</td>\n",
       "      <td>0</td>\n",
       "      <td>0.250</td>\n",
       "      <td>-1.79</td>\n",
       "      <td>4.29</td>\n",
       "      <td>12</td>\n",
       "      <td>8</td>\n",
       "      <td>0</td>\n",
       "      <td>0</td>\n",
       "    </tr>\n",
       "    <tr>\n",
       "      <th>3</th>\n",
       "      <td>2015</td>\n",
       "      <td>12</td>\n",
       "      <td>2</td>\n",
       "      <td>0</td>\n",
       "      <td>0.857</td>\n",
       "      <td>15.36</td>\n",
       "      <td>6.58</td>\n",
       "      <td>5</td>\n",
       "      <td>2</td>\n",
       "      <td>6</td>\n",
       "      <td>1</td>\n",
       "    </tr>\n",
       "    <tr>\n",
       "      <th>4</th>\n",
       "      <td>2014</td>\n",
       "      <td>11</td>\n",
       "      <td>2</td>\n",
       "      <td>0</td>\n",
       "      <td>0.846</td>\n",
       "      <td>16.07</td>\n",
       "      <td>1.68</td>\n",
       "      <td>8</td>\n",
       "      <td>5</td>\n",
       "      <td>5</td>\n",
       "      <td>1</td>\n",
       "    </tr>\n",
       "    <tr>\n",
       "      <th>5</th>\n",
       "      <td>2013</td>\n",
       "      <td>13</td>\n",
       "      <td>1</td>\n",
       "      <td>0</td>\n",
       "      <td>0.929</td>\n",
       "      <td>14.74</td>\n",
       "      <td>0.67</td>\n",
       "      <td>0</td>\n",
       "      <td>3</td>\n",
       "      <td>3</td>\n",
       "      <td>1</td>\n",
       "    </tr>\n",
       "    <tr>\n",
       "      <th>6</th>\n",
       "      <td>2012</td>\n",
       "      <td>7</td>\n",
       "      <td>6</td>\n",
       "      <td>0</td>\n",
       "      <td>0.538</td>\n",
       "      <td>6.21</td>\n",
       "      <td>3.75</td>\n",
       "      <td>13</td>\n",
       "      <td>10</td>\n",
       "      <td>0</td>\n",
       "      <td>1</td>\n",
       "    </tr>\n",
       "  </tbody>\n",
       "</table>\n",
       "</div>"
      ],
      "text/plain": [
       "   Year   W  L  T    Pct    SRS   SOS  AP_Pre  AP_High  AP_Post  Bowl\n",
       "2  2016   3  9  0  0.250  -1.79  4.29      12        8        0     0\n",
       "3  2015  12  2  0  0.857  15.36  6.58       5        2        6     1\n",
       "4  2014  11  2  0  0.846  16.07  1.68       8        5        5     1\n",
       "5  2013  13  1  0  0.929  14.74  0.67       0        3        3     1\n",
       "6  2012   7  6  0  0.538   6.21  3.75      13       10        0     1"
      ]
     },
     "execution_count": 203,
     "metadata": {},
     "output_type": "execute_result"
    }
   ],
   "source": [
    "stats_df[:5]"
   ]
  },
  {
   "cell_type": "markdown",
   "metadata": {},
   "source": [
    "### Merge additional statistics with df"
   ]
  },
  {
   "cell_type": "code",
   "execution_count": 204,
   "metadata": {
    "collapsed": true
   },
   "outputs": [],
   "source": [
    "df = df.merge(stats_df, how = 'inner', on = 'Year')"
   ]
  },
  {
   "cell_type": "code",
   "execution_count": 205,
   "metadata": {},
   "outputs": [
    {
     "data": {
      "text/html": [
       "<div>\n",
       "<style>\n",
       "    .dataframe thead tr:only-child th {\n",
       "        text-align: right;\n",
       "    }\n",
       "\n",
       "    .dataframe thead th {\n",
       "        text-align: left;\n",
       "    }\n",
       "\n",
       "    .dataframe tbody tr th {\n",
       "        vertical-align: top;\n",
       "    }\n",
       "</style>\n",
       "<table border=\"1\" class=\"dataframe\">\n",
       "  <thead>\n",
       "    <tr style=\"text-align: right;\">\n",
       "      <th></th>\n",
       "      <th>Year</th>\n",
       "      <th>Location</th>\n",
       "      <th>Winner</th>\n",
       "      <th>Score</th>\n",
       "      <th>Coach</th>\n",
       "      <th>New_Coach</th>\n",
       "      <th>W</th>\n",
       "      <th>L</th>\n",
       "      <th>T</th>\n",
       "      <th>Pct</th>\n",
       "      <th>SRS</th>\n",
       "      <th>SOS</th>\n",
       "      <th>AP_Pre</th>\n",
       "      <th>AP_High</th>\n",
       "      <th>AP_Post</th>\n",
       "      <th>Bowl</th>\n",
       "    </tr>\n",
       "  </thead>\n",
       "  <tbody>\n",
       "    <tr>\n",
       "      <th>0</th>\n",
       "      <td>1918</td>\n",
       "      <td>Ann Arbor</td>\n",
       "      <td>Michigan</td>\n",
       "      <td>21–6</td>\n",
       "      <td>George Gauthier</td>\n",
       "      <td>1</td>\n",
       "      <td>4</td>\n",
       "      <td>3</td>\n",
       "      <td>0</td>\n",
       "      <td>0.571</td>\n",
       "      <td>6.90</td>\n",
       "      <td>3.32</td>\n",
       "      <td>0</td>\n",
       "      <td>0</td>\n",
       "      <td>0</td>\n",
       "      <td>0</td>\n",
       "    </tr>\n",
       "    <tr>\n",
       "      <th>1</th>\n",
       "      <td>1925</td>\n",
       "      <td>Ann Arbor</td>\n",
       "      <td>Michigan</td>\n",
       "      <td>39–0</td>\n",
       "      <td>Ralph H. Young</td>\n",
       "      <td>0</td>\n",
       "      <td>3</td>\n",
       "      <td>5</td>\n",
       "      <td>0</td>\n",
       "      <td>0.375</td>\n",
       "      <td>-2.12</td>\n",
       "      <td>-0.12</td>\n",
       "      <td>0</td>\n",
       "      <td>0</td>\n",
       "      <td>0</td>\n",
       "      <td>0</td>\n",
       "    </tr>\n",
       "    <tr>\n",
       "      <th>2</th>\n",
       "      <td>1926</td>\n",
       "      <td>Ann Arbor</td>\n",
       "      <td>Michigan</td>\n",
       "      <td>55–3</td>\n",
       "      <td>Ralph H. Young</td>\n",
       "      <td>0</td>\n",
       "      <td>3</td>\n",
       "      <td>4</td>\n",
       "      <td>1</td>\n",
       "      <td>0.438</td>\n",
       "      <td>-5.38</td>\n",
       "      <td>-1.25</td>\n",
       "      <td>0</td>\n",
       "      <td>0</td>\n",
       "      <td>0</td>\n",
       "      <td>0</td>\n",
       "    </tr>\n",
       "    <tr>\n",
       "      <th>3</th>\n",
       "      <td>1927</td>\n",
       "      <td>Ann Arbor</td>\n",
       "      <td>Michigan</td>\n",
       "      <td>21–0</td>\n",
       "      <td>Ralph H. Young</td>\n",
       "      <td>0</td>\n",
       "      <td>4</td>\n",
       "      <td>5</td>\n",
       "      <td>0</td>\n",
       "      <td>0.444</td>\n",
       "      <td>-3.59</td>\n",
       "      <td>-1.48</td>\n",
       "      <td>0</td>\n",
       "      <td>0</td>\n",
       "      <td>0</td>\n",
       "      <td>0</td>\n",
       "    </tr>\n",
       "    <tr>\n",
       "      <th>4</th>\n",
       "      <td>1928</td>\n",
       "      <td>Ann Arbor</td>\n",
       "      <td>Michigan</td>\n",
       "      <td>3–0</td>\n",
       "      <td>Harry Kipke</td>\n",
       "      <td>1</td>\n",
       "      <td>3</td>\n",
       "      <td>4</td>\n",
       "      <td>1</td>\n",
       "      <td>0.438</td>\n",
       "      <td>-1.56</td>\n",
       "      <td>-1.68</td>\n",
       "      <td>0</td>\n",
       "      <td>0</td>\n",
       "      <td>0</td>\n",
       "      <td>0</td>\n",
       "    </tr>\n",
       "  </tbody>\n",
       "</table>\n",
       "</div>"
      ],
      "text/plain": [
       "   Year   Location    Winner Score            Coach  New_Coach  W  L  T  \\\n",
       "0  1918  Ann Arbor  Michigan  21–6  George Gauthier          1  4  3  0   \n",
       "1  1925  Ann Arbor  Michigan  39–0   Ralph H. Young          0  3  5  0   \n",
       "2  1926  Ann Arbor  Michigan  55–3   Ralph H. Young          0  3  4  1   \n",
       "3  1927  Ann Arbor  Michigan  21–0   Ralph H. Young          0  4  5  0   \n",
       "4  1928  Ann Arbor  Michigan   3–0      Harry Kipke          1  3  4  1   \n",
       "\n",
       "     Pct   SRS   SOS  AP_Pre  AP_High  AP_Post  Bowl  \n",
       "0  0.571  6.90  3.32       0        0        0     0  \n",
       "1  0.375 -2.12 -0.12       0        0        0     0  \n",
       "2  0.438 -5.38 -1.25       0        0        0     0  \n",
       "3  0.444 -3.59 -1.48       0        0        0     0  \n",
       "4  0.438 -1.56 -1.68       0        0        0     0  "
      ]
     },
     "execution_count": 205,
     "metadata": {},
     "output_type": "execute_result"
    }
   ],
   "source": [
    "df[:5]"
   ]
  },
  {
   "cell_type": "markdown",
   "metadata": {},
   "source": [
    "Pct: Win-Loss Percentage <br>\n",
    "SRS: Simple Rating System - a rating that takes into account average point differential and strength of schedule. The rating is denominated in points above/below average, where zero is average. <br>\n",
    "SOS: Strength of Schedule - a rating of strength of schedule. The rating is denominated in points above/below average, where zero is average. <br>\n",
    "AP_Pre:  Rank in preseason AP poll <br>\n",
    "AP_High: Highest rank in AP poll during season <br>\n",
    "AP_Post: Rank in final AP poll <br>\n",
    "Bowl: Did MSU attend a bowl game? <br>"
   ]
  },
  {
   "cell_type": "markdown",
   "metadata": {},
   "source": [
    "## Eliminating some of the features"
   ]
  },
  {
   "cell_type": "markdown",
   "metadata": {},
   "source": [
    "I wanted to eliminate some of the features because I only have so much information before the 2017 MSU vs UM football game (I wouldn't know MSU's Rank in final AP poll) and because some features were related (SRS and SOS)."
   ]
  },
  {
   "cell_type": "code",
   "execution_count": 207,
   "metadata": {},
   "outputs": [],
   "source": [
    "df = df.drop(['AP_High', 'AP_Post', 'Bowl', 'SOS'], axis = 1)"
   ]
  },
  {
   "cell_type": "code",
   "execution_count": 208,
   "metadata": {},
   "outputs": [
    {
     "data": {
      "text/html": [
       "<div>\n",
       "<style>\n",
       "    .dataframe thead tr:only-child th {\n",
       "        text-align: right;\n",
       "    }\n",
       "\n",
       "    .dataframe thead th {\n",
       "        text-align: left;\n",
       "    }\n",
       "\n",
       "    .dataframe tbody tr th {\n",
       "        vertical-align: top;\n",
       "    }\n",
       "</style>\n",
       "<table border=\"1\" class=\"dataframe\">\n",
       "  <thead>\n",
       "    <tr style=\"text-align: right;\">\n",
       "      <th></th>\n",
       "      <th>Year</th>\n",
       "      <th>Location</th>\n",
       "      <th>Winner</th>\n",
       "      <th>Score</th>\n",
       "      <th>Coach</th>\n",
       "      <th>New_Coach</th>\n",
       "      <th>W</th>\n",
       "      <th>L</th>\n",
       "      <th>T</th>\n",
       "      <th>Pct</th>\n",
       "      <th>SRS</th>\n",
       "      <th>AP_Pre</th>\n",
       "    </tr>\n",
       "  </thead>\n",
       "  <tbody>\n",
       "    <tr>\n",
       "      <th>0</th>\n",
       "      <td>1918</td>\n",
       "      <td>Ann Arbor</td>\n",
       "      <td>Michigan</td>\n",
       "      <td>21–6</td>\n",
       "      <td>George Gauthier</td>\n",
       "      <td>1</td>\n",
       "      <td>4</td>\n",
       "      <td>3</td>\n",
       "      <td>0</td>\n",
       "      <td>0.571</td>\n",
       "      <td>6.90</td>\n",
       "      <td>0</td>\n",
       "    </tr>\n",
       "    <tr>\n",
       "      <th>1</th>\n",
       "      <td>1925</td>\n",
       "      <td>Ann Arbor</td>\n",
       "      <td>Michigan</td>\n",
       "      <td>39–0</td>\n",
       "      <td>Ralph H. Young</td>\n",
       "      <td>0</td>\n",
       "      <td>3</td>\n",
       "      <td>5</td>\n",
       "      <td>0</td>\n",
       "      <td>0.375</td>\n",
       "      <td>-2.12</td>\n",
       "      <td>0</td>\n",
       "    </tr>\n",
       "    <tr>\n",
       "      <th>2</th>\n",
       "      <td>1926</td>\n",
       "      <td>Ann Arbor</td>\n",
       "      <td>Michigan</td>\n",
       "      <td>55–3</td>\n",
       "      <td>Ralph H. Young</td>\n",
       "      <td>0</td>\n",
       "      <td>3</td>\n",
       "      <td>4</td>\n",
       "      <td>1</td>\n",
       "      <td>0.438</td>\n",
       "      <td>-5.38</td>\n",
       "      <td>0</td>\n",
       "    </tr>\n",
       "    <tr>\n",
       "      <th>3</th>\n",
       "      <td>1927</td>\n",
       "      <td>Ann Arbor</td>\n",
       "      <td>Michigan</td>\n",
       "      <td>21–0</td>\n",
       "      <td>Ralph H. Young</td>\n",
       "      <td>0</td>\n",
       "      <td>4</td>\n",
       "      <td>5</td>\n",
       "      <td>0</td>\n",
       "      <td>0.444</td>\n",
       "      <td>-3.59</td>\n",
       "      <td>0</td>\n",
       "    </tr>\n",
       "    <tr>\n",
       "      <th>4</th>\n",
       "      <td>1928</td>\n",
       "      <td>Ann Arbor</td>\n",
       "      <td>Michigan</td>\n",
       "      <td>3–0</td>\n",
       "      <td>Harry Kipke</td>\n",
       "      <td>1</td>\n",
       "      <td>3</td>\n",
       "      <td>4</td>\n",
       "      <td>1</td>\n",
       "      <td>0.438</td>\n",
       "      <td>-1.56</td>\n",
       "      <td>0</td>\n",
       "    </tr>\n",
       "  </tbody>\n",
       "</table>\n",
       "</div>"
      ],
      "text/plain": [
       "   Year   Location    Winner Score            Coach  New_Coach  W  L  T  \\\n",
       "0  1918  Ann Arbor  Michigan  21–6  George Gauthier          1  4  3  0   \n",
       "1  1925  Ann Arbor  Michigan  39–0   Ralph H. Young          0  3  5  0   \n",
       "2  1926  Ann Arbor  Michigan  55–3   Ralph H. Young          0  3  4  1   \n",
       "3  1927  Ann Arbor  Michigan  21–0   Ralph H. Young          0  4  5  0   \n",
       "4  1928  Ann Arbor  Michigan   3–0      Harry Kipke          1  3  4  1   \n",
       "\n",
       "     Pct   SRS  AP_Pre  \n",
       "0  0.571  6.90       0  \n",
       "1  0.375 -2.12       0  \n",
       "2  0.438 -5.38       0  \n",
       "3  0.444 -3.59       0  \n",
       "4  0.438 -1.56       0  "
      ]
     },
     "execution_count": 208,
     "metadata": {},
     "output_type": "execute_result"
    }
   ],
   "source": [
    "df[:5]"
   ]
  },
  {
   "cell_type": "markdown",
   "metadata": {},
   "source": [
    "## Visualize some of the data using Seaborn"
   ]
  },
  {
   "cell_type": "code",
   "execution_count": 209,
   "metadata": {},
   "outputs": [
    {
     "data": {
      "text/plain": [
       "<function matplotlib.pyplot.show>"
      ]
     },
     "execution_count": 209,
     "metadata": {},
     "output_type": "execute_result"
    },
    {
     "data": {
      "image/png": "[encoded data removed]",
      "text/plain": [
       "<matplotlib.figure.Figure at 0x1175a2668>"
      ]
     },
     "metadata": {},
     "output_type": "display_data"
    }
   ],
   "source": [
    "sns_plot1 = sns.pairplot(vars = ['Pct', 'SRS', 'AP_Pre'], data = df, hue = 'Winner', size = 3)\n",
    "plt.show"
   ]
  },
  {
   "cell_type": "code",
   "execution_count": 211,
   "metadata": {},
   "outputs": [
    {
     "data": {
      "image/png": "[encoded data removed]",
      "text/plain": [
       "<matplotlib.figure.Figure at 0x11900f630>"
      ]
     },
     "metadata": {},
     "output_type": "display_data"
    }
   ],
   "source": [
    "sns_plot2 = sns.countplot(x = \"Location\", hue = \"Winner\", data = df)\n",
    "plt.show()"
   ]
  },
  {
   "cell_type": "code",
   "execution_count": 212,
   "metadata": {},
   "outputs": [
    {
     "data": {
      "image/png": "[encoded data removed]",
      "text/plain": [
       "<matplotlib.figure.Figure at 0x1157e4ba8>"
      ]
     },
     "metadata": {},
     "output_type": "display_data"
    }
   ],
   "source": [
    "sns_plot3 = sns.countplot(x = \"New_Coach\", hue = \"Winner\", data = df)\n",
    "plt.show()"
   ]
  },
  {
   "cell_type": "markdown",
   "metadata": {},
   "source": [
    "## I chose to only look at whether or not MSU won (I wanted to change the 3 outcomes -- MSU, UM, or Tie -- to a binary outcome of 1 or 0)."
   ]
  },
  {
   "cell_type": "markdown",
   "metadata": {},
   "source": [
    "## Encode Categorical Location Data"
   ]
  },
  {
   "cell_type": "code",
   "execution_count": 213,
   "metadata": {
    "collapsed": true
   },
   "outputs": [],
   "source": [
    "df.Location = df.Location.apply(lambda x: 1 if 'East Lansing' in x else 0)"
   ]
  },
  {
   "cell_type": "code",
   "execution_count": 225,
   "metadata": {
    "collapsed": true
   },
   "outputs": [],
   "source": [
    "df.Winner = df.Winner.apply(lambda x: 1 if 'State' in x else 0)"
   ]
  },
  {
   "cell_type": "code",
   "execution_count": 236,
   "metadata": {},
   "outputs": [
    {
     "data": {
      "text/html": [
       "<div>\n",
       "<style>\n",
       "    .dataframe thead tr:only-child th {\n",
       "        text-align: right;\n",
       "    }\n",
       "\n",
       "    .dataframe thead th {\n",
       "        text-align: left;\n",
       "    }\n",
       "\n",
       "    .dataframe tbody tr th {\n",
       "        vertical-align: top;\n",
       "    }\n",
       "</style>\n",
       "<table border=\"1\" class=\"dataframe\">\n",
       "  <thead>\n",
       "    <tr style=\"text-align: right;\">\n",
       "      <th></th>\n",
       "      <th>Year</th>\n",
       "      <th>Location</th>\n",
       "      <th>Winner</th>\n",
       "      <th>Score</th>\n",
       "      <th>Coach</th>\n",
       "      <th>New_Coach</th>\n",
       "      <th>W</th>\n",
       "      <th>L</th>\n",
       "      <th>T</th>\n",
       "      <th>Pct</th>\n",
       "      <th>SRS</th>\n",
       "      <th>AP_Pre</th>\n",
       "    </tr>\n",
       "  </thead>\n",
       "  <tbody>\n",
       "    <tr>\n",
       "      <th>0</th>\n",
       "      <td>1918</td>\n",
       "      <td>0</td>\n",
       "      <td>0</td>\n",
       "      <td>21–6</td>\n",
       "      <td>George Gauthier</td>\n",
       "      <td>1</td>\n",
       "      <td>4</td>\n",
       "      <td>3</td>\n",
       "      <td>0</td>\n",
       "      <td>0.571</td>\n",
       "      <td>6.90</td>\n",
       "      <td>0</td>\n",
       "    </tr>\n",
       "    <tr>\n",
       "      <th>1</th>\n",
       "      <td>1925</td>\n",
       "      <td>0</td>\n",
       "      <td>0</td>\n",
       "      <td>39–0</td>\n",
       "      <td>Ralph H. Young</td>\n",
       "      <td>0</td>\n",
       "      <td>3</td>\n",
       "      <td>5</td>\n",
       "      <td>0</td>\n",
       "      <td>0.375</td>\n",
       "      <td>-2.12</td>\n",
       "      <td>0</td>\n",
       "    </tr>\n",
       "    <tr>\n",
       "      <th>2</th>\n",
       "      <td>1926</td>\n",
       "      <td>0</td>\n",
       "      <td>0</td>\n",
       "      <td>55–3</td>\n",
       "      <td>Ralph H. Young</td>\n",
       "      <td>0</td>\n",
       "      <td>3</td>\n",
       "      <td>4</td>\n",
       "      <td>1</td>\n",
       "      <td>0.438</td>\n",
       "      <td>-5.38</td>\n",
       "      <td>0</td>\n",
       "    </tr>\n",
       "    <tr>\n",
       "      <th>3</th>\n",
       "      <td>1927</td>\n",
       "      <td>0</td>\n",
       "      <td>0</td>\n",
       "      <td>21–0</td>\n",
       "      <td>Ralph H. Young</td>\n",
       "      <td>0</td>\n",
       "      <td>4</td>\n",
       "      <td>5</td>\n",
       "      <td>0</td>\n",
       "      <td>0.444</td>\n",
       "      <td>-3.59</td>\n",
       "      <td>0</td>\n",
       "    </tr>\n",
       "    <tr>\n",
       "      <th>4</th>\n",
       "      <td>1928</td>\n",
       "      <td>0</td>\n",
       "      <td>0</td>\n",
       "      <td>3–0</td>\n",
       "      <td>Harry Kipke</td>\n",
       "      <td>1</td>\n",
       "      <td>3</td>\n",
       "      <td>4</td>\n",
       "      <td>1</td>\n",
       "      <td>0.438</td>\n",
       "      <td>-1.56</td>\n",
       "      <td>0</td>\n",
       "    </tr>\n",
       "  </tbody>\n",
       "</table>\n",
       "</div>"
      ],
      "text/plain": [
       "   Year  Location  Winner Score            Coach  New_Coach  W  L  T    Pct  \\\n",
       "0  1918         0       0  21–6  George Gauthier          1  4  3  0  0.571   \n",
       "1  1925         0       0  39–0   Ralph H. Young          0  3  5  0  0.375   \n",
       "2  1926         0       0  55–3   Ralph H. Young          0  3  4  1  0.438   \n",
       "3  1927         0       0  21–0   Ralph H. Young          0  4  5  0  0.444   \n",
       "4  1928         0       0   3–0      Harry Kipke          1  3  4  1  0.438   \n",
       "\n",
       "    SRS  AP_Pre  \n",
       "0  6.90       0  \n",
       "1 -2.12       0  \n",
       "2 -5.38       0  \n",
       "3 -3.59       0  \n",
       "4 -1.56       0  "
      ]
     },
     "execution_count": 236,
     "metadata": {},
     "output_type": "execute_result"
    }
   ],
   "source": [
    "df[:5]"
   ]
  },
  {
   "cell_type": "markdown",
   "metadata": {},
   "source": [
    "## Split dataset into training set and test set"
   ]
  },
  {
   "cell_type": "code",
   "execution_count": 226,
   "metadata": {
    "collapsed": true
   },
   "outputs": [],
   "source": [
    "X = df[['Location', 'New_Coach', 'Pct', 'SRS', 'AP_Pre',]]\n",
    "y = df[['Winner']]\n",
    "X_train, X_test, y_train, y_test = train_test_split(X, y, test_size = 0.3, random_state = 6)"
   ]
  },
  {
   "cell_type": "code",
   "execution_count": 227,
   "metadata": {},
   "outputs": [
    {
     "data": {
      "text/html": [
       "<div>\n",
       "<style>\n",
       "    .dataframe thead tr:only-child th {\n",
       "        text-align: right;\n",
       "    }\n",
       "\n",
       "    .dataframe thead th {\n",
       "        text-align: left;\n",
       "    }\n",
       "\n",
       "    .dataframe tbody tr th {\n",
       "        vertical-align: top;\n",
       "    }\n",
       "</style>\n",
       "<table border=\"1\" class=\"dataframe\">\n",
       "  <thead>\n",
       "    <tr style=\"text-align: right;\">\n",
       "      <th></th>\n",
       "      <th>Winner</th>\n",
       "    </tr>\n",
       "  </thead>\n",
       "  <tbody>\n",
       "    <tr>\n",
       "      <th>46</th>\n",
       "      <td>0</td>\n",
       "    </tr>\n",
       "    <tr>\n",
       "      <th>29</th>\n",
       "      <td>0</td>\n",
       "    </tr>\n",
       "    <tr>\n",
       "      <th>32</th>\n",
       "      <td>0</td>\n",
       "    </tr>\n",
       "    <tr>\n",
       "      <th>52</th>\n",
       "      <td>1</td>\n",
       "    </tr>\n",
       "    <tr>\n",
       "      <th>69</th>\n",
       "      <td>1</td>\n",
       "    </tr>\n",
       "  </tbody>\n",
       "</table>\n",
       "</div>"
      ],
      "text/plain": [
       "    Winner\n",
       "46       0\n",
       "29       0\n",
       "32       0\n",
       "52       1\n",
       "69       1"
      ]
     },
     "execution_count": 227,
     "metadata": {},
     "output_type": "execute_result"
    }
   ],
   "source": [
    "y_train[:5]"
   ]
  },
  {
   "cell_type": "markdown",
   "metadata": {},
   "source": [
    "## Feature Scaling"
   ]
  },
  {
   "cell_type": "code",
   "execution_count": 228,
   "metadata": {
    "collapsed": true
   },
   "outputs": [],
   "source": [
    "sc = StandardScaler()\n",
    "X_train = sc.fit_transform(X_train)\n",
    "X_test = sc.transform(X_test)"
   ]
  },
  {
   "cell_type": "code",
   "execution_count": 217,
   "metadata": {},
   "outputs": [
    {
     "data": {
      "text/plain": [
       "array([[ -7.58287544e-01,  -4.34372243e-01,  -5.05651982e-01,\n",
       "          3.26218533e-01,  -5.61637315e-01],\n",
       "       [ -7.58287544e-01,  -4.34372243e-01,   1.60367262e+00,\n",
       "          2.16452013e+00,  -5.61637315e-01],\n",
       "       [  1.31876095e+00,  -4.34372243e-01,  -1.09098956e+00,\n",
       "         -1.33356867e-01,  -2.21991033e-03],\n",
       "       [ -7.58287544e-01,  -4.34372243e-01,   6.91389732e-01,\n",
       "          1.38560231e+00,  -5.61637315e-01],\n",
       "       [  1.31876095e+00,   2.30217289e+00,  -2.84172898e-01,\n",
       "         -1.01422625e-01,  -5.61637315e-01]])"
      ]
     },
     "execution_count": 217,
     "metadata": {},
     "output_type": "execute_result"
    }
   ],
   "source": [
    "X_train[:5]"
   ]
  },
  {
   "cell_type": "markdown",
   "metadata": {},
   "source": [
    "## Random Forest \n",
    "To address the possibility of overfitting"
   ]
  },
  {
   "cell_type": "code",
   "execution_count": 229,
   "metadata": {},
   "outputs": [
    {
     "data": {
      "text/plain": [
       "array([ 0.07221416,  0.02830255,  0.22081635,  0.50711343,  0.1715535 ])"
      ]
     },
     "execution_count": 229,
     "metadata": {},
     "output_type": "execute_result"
    }
   ],
   "source": [
    "randforest = RandomForestClassifier(max_depth = 2, random_state = 6)\n",
    "randforest.fit(X_train, y_train.values.ravel())\n",
    "randforest.feature_importances_"
   ]
  },
  {
   "cell_type": "markdown",
   "metadata": {
    "collapsed": true
   },
   "source": [
    "## Train a Logistic Regression Model"
   ]
  },
  {
   "cell_type": "code",
   "execution_count": 230,
   "metadata": {},
   "outputs": [
    {
     "name": "stdout",
     "output_type": "stream",
     "text": [
      "Logistic Regression Accuracy Score:  0.714285714286\n",
      "             precision    recall  f1-score   support\n",
      "\n",
      "          0       0.72      0.81      0.76        16\n",
      "          1       0.70      0.58      0.64        12\n",
      "\n",
      "avg / total       0.71      0.71      0.71        28\n",
      "\n"
     ]
    }
   ],
   "source": [
    "logreg = LogisticRegression(random_state = 6)\n",
    "logreg.fit(X_train, y_train.values.ravel())\n",
    "y_pred = logreg.predict(X_test)\n",
    "logreg_score = accuracy_score(y_test, y_pred)\n",
    "logreg_class_report = classification_report(y_test, y_pred)\n",
    "print('Logistic Regression Accuracy Score: ', logreg_score)\n",
    "print(logreg_class_report)"
   ]
  },
  {
   "cell_type": "code",
   "execution_count": 231,
   "metadata": {},
   "outputs": [
    {
     "data": {
      "image/png": "[encoded data removed]",
      "text/plain": [
       "<matplotlib.figure.Figure at 0x111f834e0>"
      ]
     },
     "metadata": {},
     "output_type": "display_data"
    }
   ],
   "source": [
    "y_pred_prob = logreg.predict_proba(X_test)[:,1]\n",
    "fpr, tpr, thresholds = roc_curve(y_test, y_pred_prob)\n",
    "\n",
    "plt.plot([0,1], [0,1], 'k--')\n",
    "plt.plot(fpr, tpr, label = 'Logistic Regression')\n",
    "plt.xlabel('False Positive Rate')\n",
    "plt.ylabel('True Positive Rate')\n",
    "plt.title('LogReg ROC Curve')\n",
    "plt.show()"
   ]
  },
  {
   "cell_type": "markdown",
   "metadata": {},
   "source": [
    "## Train a K Nearest Neighbor Model"
   ]
  },
  {
   "cell_type": "code",
   "execution_count": 232,
   "metadata": {},
   "outputs": [
    {
     "data": {
      "text/plain": [
       "{'n_neighbors': 9}"
      ]
     },
     "execution_count": 232,
     "metadata": {},
     "output_type": "execute_result"
    }
   ],
   "source": [
    "param_grid = {'n_neighbors':np.arange(1,15)}\n",
    "knn_cv = GridSearchCV(knn, param_grid, cv = 5)\n",
    "knn_cv.fit(X_train, y_train.values.ravel())\n",
    "knn_cv.best_params_"
   ]
  },
  {
   "cell_type": "code",
   "execution_count": 233,
   "metadata": {},
   "outputs": [
    {
     "data": {
      "text/plain": [
       "0.79365079365079361"
      ]
     },
     "execution_count": 233,
     "metadata": {},
     "output_type": "execute_result"
    }
   ],
   "source": [
    "knn_cv.best_score_"
   ]
  },
  {
   "cell_type": "code",
   "execution_count": 234,
   "metadata": {},
   "outputs": [
    {
     "name": "stdout",
     "output_type": "stream",
     "text": [
      "KNN Accurary Score:  0.75\n",
      "             precision    recall  f1-score   support\n",
      "\n",
      "          0       0.74      0.88      0.80        16\n",
      "          1       0.78      0.58      0.67        12\n",
      "\n",
      "avg / total       0.75      0.75      0.74        28\n",
      "\n"
     ]
    }
   ],
   "source": [
    "knn = neighbors.KNeighborsClassifier(n_neighbors = 9)\n",
    "knn.fit(X_train, y_train.values.ravel())\n",
    "y_pred = knn.predict(X_test)\n",
    "accuracy_score(y_test, y_pred)\n",
    "knn_score = knn.score(X_test, y_test)\n",
    "knn_class_report = classification_report(y_test, y_pred)\n",
    "print('KNN Accurary Score: ', knn_score)\n",
    "print(knn_class_report)"
   ]
  },
  {
   "cell_type": "markdown",
   "metadata": {},
   "source": [
    "## Train a Support Vector Machine Model "
   ]
  },
  {
   "cell_type": "code",
   "execution_count": 235,
   "metadata": {},
   "outputs": [
    {
     "name": "stdout",
     "output_type": "stream",
     "text": [
      "SVM Accuracy Score:  0.75\n",
      "             precision    recall  f1-score   support\n",
      "\n",
      "          0       0.74      0.88      0.80        16\n",
      "          1       0.78      0.58      0.67        12\n",
      "\n",
      "avg / total       0.75      0.75      0.74        28\n",
      "\n"
     ]
    }
   ],
   "source": [
    "svc = SVC(kernel = 'linear')\n",
    "svc.fit(X_train, y_train.values.ravel())\n",
    "y_pred = svc.predict(X_test)\n",
    "SVM_score = accuracy_score(y_test, y_pred)\n",
    "SVM_class_report = classification_report(y_test, y_pred)\n",
    "print('SVM Accuracy Score: ', SVM_score)\n",
    "print(SVM_class_report)"
   ]
  },
  {
   "cell_type": "code",
   "execution_count": null,
   "metadata": {
    "collapsed": true
   },
   "outputs": [],
   "source": []
  }
 ],
 "metadata": {
  "kernelspec": {
   "display_name": "Python 3",
   "language": "python",
   "name": "python3"
  },
  "language_info": {
   "codemirror_mode": {
    "name": "ipython",
    "version": 3
   },
   "file_extension": ".py",
   "mimetype": "text/x-python",
   "name": "python",
   "nbconvert_exporter": "python",
   "pygments_lexer": "ipython3",
   "version": "3.6.1"
  }
 },
 "nbformat": 4,
 "nbformat_minor": 2
}
